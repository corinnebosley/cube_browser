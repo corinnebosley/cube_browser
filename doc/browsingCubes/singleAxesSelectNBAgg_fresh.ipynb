{
 "cells": [
  {
   "cell_type": "code",
   "execution_count": null,
   "metadata": {
    "collapsed": false,
    "urth": {
     "dashboard": {
      "hidden": true
     }
    }
   },
   "outputs": [],
   "source": [
    "import iris\n",
    "import holoviews as hv\n",
    "hv.notebook_extension()\n",
    "import geoviews as gv\n",
    "import param\n",
    "import paramnb\n",
    "iris.FUTURE.strict_grib_load = True"
   ]
  },
  {
   "cell_type": "code",
   "execution_count": null,
   "metadata": {
    "collapsed": true,
    "urth": {
     "dashboard": {}
    }
   },
   "outputs": [],
   "source": [
    "%output widgets='live'\n",
    "%opts Image [colorbar=True]\n",
    "%output backend='matplotlib:nbagg'"
   ]
  },
  {
   "cell_type": "code",
   "execution_count": null,
   "metadata": {
    "collapsed": false,
    "urth": {
     "dashboard": {
      "layout": {
       "col": 0,
       "height": 4,
       "row": 0,
       "width": 3
      }
     }
    }
   },
   "outputs": [],
   "source": [
    "class PathPicker(param.Parameterized):\n",
    "    filepath = param.String('/data/local/itmh/ukvTigge7Feb16')\n",
    "paramnb.NbParams(PathPicker, execute='next')"
   ]
  },
  {
   "cell_type": "code",
   "execution_count": null,
   "metadata": {
    "collapsed": false,
    "urth": {
     "dashboard": {
      "layout": {
       "col": 3,
       "height": 8,
       "row": 0,
       "width": 6
      }
     }
    }
   },
   "outputs": [],
   "source": [
    "class CubeLoader(param.Parameterized):\n",
    "    \n",
    "    files = paramnb.MultiFileSelector(path='{}/*'.format(PathPicker.filepath))\n",
    "\n",
    "    cubes = None\n",
    "    \n",
    "    @classmethod\n",
    "    def load(cls, cube_loader):\n",
    "        cubelist = iris.load(cls.files)\n",
    "        cubes = {cb.vdims[0].name:cb for cb in [hv.Dataset(c) for c in cubelist]} # Load cubes into dictionary\n",
    "        cls.cubes = {k:v for k,v in cubes.items() if k!='unknown'}  # Filter as desired\n",
    "\n",
    "paramnb.NbParams(CubeLoader, execute='next', callback=CubeLoader.load)"
   ]
  },
  {
   "cell_type": "code",
   "execution_count": null,
   "metadata": {
    "collapsed": false,
    "urth": {
     "dashboard": {
      "layout": {
       "col": 0,
       "height": 5,
       "row": 4,
       "width": 3
      }
     }
    }
   },
   "outputs": [],
   "source": [
    "class CubeSelect(param.Parameterized):\n",
    "\n",
    "    cube = param.ObjectSelector(default=CubeLoader.cubes.keys()[0],\n",
    "                                    objects=list(CubeLoader.cubes.keys()))\n",
    "\n",
    "\n",
    "    \n",
    "    cache = {}\n",
    "\n",
    "    @classmethod\n",
    "    def view(cls):\n",
    "        key = (cls.quantity, cls.element)\n",
    "        if key in CubeBrowser.cache:\n",
    "            converted = cls.cache[key]\n",
    "        else:\n",
    "            holocube = CubeLoader.cubes[cls.quantity]\n",
    "            ls.cache[key] = converted\n",
    "paramnb.NbParams(CubeSelect, execute='next')"
   ]
  },
  {
   "cell_type": "code",
   "execution_count": null,
   "metadata": {
    "collapsed": false,
    "urth": {
     "dashboard": {
      "layout": {
       "col": 9,
       "height": 5,
       "row": 0,
       "width": 3
      }
     }
    }
   },
   "outputs": [],
   "source": [
    "\n",
    "class ElementSelect(param.Parameterized):\n",
    "    element = param.ObjectSelector(default=gv.Image,\n",
    "                                   objects=[gv.Image, gv.FilledContours, gv.LineContours])\n",
    "    x_axis = param.ObjectSelector(default=CubeLoader.cubes[CubeSelect.cube].data.coords()[0].name(),\n",
    "                                  objects=[c.name() for c in CubeLoader.cubes[CubeSelect.cube].data.coords()])\n",
    "paramnb.NbParams(ElementSelect, execute='next')"
   ]
  },
  {
   "cell_type": "code",
   "execution_count": null,
   "metadata": {
    "collapsed": false,
    "urth": {
     "dashboard": {
      "layout": {
       "col": 9,
       "height": 4,
       "row": 5,
       "width": 3
      }
     }
    }
   },
   "outputs": [],
   "source": [
    "# if the element is a 2D, we'll need a y_axis as well\n",
    "\n",
    "class YSelect(param.Parameterized):\n",
    "    available_coords = [c.name() for c in CubeLoader.cubes[CubeSelect.cube].data.coords()]\n",
    "    available_coords.remove(ElementSelect.x_axis)\n",
    "    y_axis = param.ObjectSelector(default=available_coords[0],\n",
    "                                  objects=available_coords)\n",
    "paramnb.NbParams(YSelect, execute='next')"
   ]
  },
  {
   "cell_type": "code",
   "execution_count": null,
   "metadata": {
    "collapsed": false,
    "urth": {
     "dashboard": {
      "layout": {
       "col": 0,
       "height": 30,
       "row": 9,
       "width": 12
      }
     }
    }
   },
   "outputs": [],
   "source": [
    "%%output size=250 \n",
    "CubeLoader.cubes[CubeSelect.cube].to(ElementSelect.element, [ElementSelect.x_axis, YSelect.y_axis], dynamic=True)"
   ]
  },
  {
   "cell_type": "code",
   "execution_count": null,
   "metadata": {
    "collapsed": true,
    "urth": {
     "dashboard": {}
    }
   },
   "outputs": [],
   "source": []
  }
 ],
 "metadata": {
  "kernelspec": {
   "display_name": "Python 2",
   "language": "python",
   "name": "python2"
  },
  "language_info": {
   "codemirror_mode": {
    "name": "ipython",
    "version": 2
   },
   "file_extension": ".py",
   "mimetype": "text/x-python",
   "name": "python",
   "nbconvert_exporter": "python",
   "pygments_lexer": "ipython2",
   "version": "2.7.11"
  },
  "urth": {
   "dashboard": {
    "cellMargin": 10,
    "defaultCellHeight": 20,
    "layoutStrategy": "packed",
    "maxColumns": 16
   }
  }
 },
 "nbformat": 4,
 "nbformat_minor": 0
}
