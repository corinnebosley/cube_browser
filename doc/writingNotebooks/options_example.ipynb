{
 "cells": [
  {
   "cell_type": "code",
   "execution_count": null,
   "metadata": {
    "collapsed": false
   },
   "outputs": [],
   "source": [
    "import holoviews as hv\n",
    "import geoviews as gv\n",
    "import iris\n",
    "from cartopy import feature as cf\n",
    "\n",
    "hv. notebook_extension()"
   ]
  },
  {
   "cell_type": "markdown",
   "metadata": {},
   "source": [
    "# Layout"
   ]
  },
  {
   "cell_type": "markdown",
   "metadata": {},
   "source": [
    "If you have mutliple plots of the same Element that you would like to plot side-by-side, you can do this trivially by using the `+` operator.  Equally trivial are overlay plots (such as coastlines or oceans, etc., or even stacked plots), which can be achieved by using the `*` operator."
   ]
  },
  {
   "cell_type": "code",
   "execution_count": null,
   "metadata": {
    "collapsed": false
   },
   "outputs": [],
   "source": [
    "cubes = iris.load((iris.sample_data_path('uk_hires.pp')))\n",
    "potential_temp = hv.Dataset(cubes[0])\n",
    "surface_alt = hv.Dataset(cubes[1])"
   ]
  },
  {
   "cell_type": "code",
   "execution_count": null,
   "metadata": {
    "collapsed": false
   },
   "outputs": [],
   "source": [
    "temp_plot = potential_temp.to(gv.Image, ['grid_latitude', 'grid_longitude'], dynamic=True)\n",
    "altitude_plot = surface_alt.to(gv.Image, ['grid_latitude', 'grid_longitude'], dynamic=True)\n",
    "coasts  = gv.Feature(cf.COASTLINE)\n",
    "\n",
    "temp_plot + altitude_plot + (altitude_plot * coasts)"
   ]
  },
  {
   "cell_type": "code",
   "execution_count": null,
   "metadata": {
    "collapsed": false
   },
   "outputs": [],
   "source": [
    "coasts  = gv.Feature(cf.COASTLINE)\n",
    "\n",
    "altitude_plot * coasts"
   ]
  },
  {
   "cell_type": "markdown",
   "metadata": {},
   "source": [
    "# Appearance and Magics"
   ]
  },
  {
   "cell_type": "markdown",
   "metadata": {},
   "source": [
    "It is possible to change many style and plotting options within your notebook, and there are several ways to go about this.  The most direct way is to add these to the arguments for your plot.  "
   ]
  },
  {
   "cell_type": "code",
   "execution_count": null,
   "metadata": {
    "collapsed": false
   },
   "outputs": [],
   "source": [
    "temp_plot_2 = potential_temp.to(gv.FilledContours, ['grid_latitude', 'grid_longitude'], dynamic=True, label='Temperature')\n",
    "alt_plot_2 = surface_alt.to(gv.LineContours, ['grid_latitude', 'grid_longitude'], dynamic=True, label='Surface Altitude')\n",
    "\n",
    "hv.Layout([plot * coasts for plot in [temp_plot_2, alt_plot_2]])"
   ]
  },
  {
   "cell_type": "markdown",
   "metadata": {},
   "source": [
    "This format can get a little cumbersome and it is not always clear what you can change in this way, so an alternative method is to use cell and line magics to format your plots.  \n",
    "\n",
    "**Line magics** are a way of applying a set of formatting options to every plot in the notebook, so it makes sense to write these at the top of the page before you start plotting, but you can choose to put them anywhere as long as you are aware of the impact this will have on your plots.  These are denoted by '%'.  The line magics that are available are:compositor, opts, output or params.\n",
    "\n",
    "**Cell magics** are a set of formatting options which will apply to the plots you construct in a specific cell, but be careful; these add an implicit tag to the plots you produce in that cell, so if you delete the cell magics and reproduce the plot, this tag and hence the formatting options will still apply.  You can delete the implicit cell magics by using the explicit plotting syntax illustrated in the plots above.  Cell magics are denoted by '%%'.  The cell magics that are available are: labels, opts or output."
   ]
  },
  {
   "cell_type": "code",
   "execution_count": null,
   "metadata": {
    "collapsed": true
   },
   "outputs": [],
   "source": [
    "%output widgets='live' size=200\n",
    "%opts Image {+framewise} [colorbar=True] {+framewise} Curve [xrotation=60]"
   ]
  },
  {
   "cell_type": "code",
   "execution_count": null,
   "metadata": {
    "collapsed": false
   },
   "outputs": [],
   "source": [
    "%%opts Image (cmap='summer')\n",
    "potential_temp.groupby(['time', 'model_level_number'], group_type=gv.Image) * coasts"
   ]
  },
  {
   "cell_type": "markdown",
   "metadata": {},
   "source": [
    "To see the docstring for magics, simply type (for example):\n",
    "\n",
    "```python\n",
    "%output?\n",
    "```\n",
    "or\n",
    "```python\n",
    "%opts?\n",
    "```\n",
    "\n",
    "**More ways of getting help and information regarding the formatting options you can set are detailed in the next section ([Help Options](help.rst))**"
   ]
  }
 ],
 "metadata": {
  "kernelspec": {
   "display_name": "Python 2",
   "language": "python",
   "name": "python2"
  },
  "language_info": {
   "codemirror_mode": {
    "name": "ipython",
    "version": 2
   },
   "file_extension": ".py",
   "mimetype": "text/x-python",
   "name": "python",
   "nbconvert_exporter": "python",
   "pygments_lexer": "ipython2",
   "version": "2.7.11"
  }
 },
 "nbformat": 4,
 "nbformat_minor": 0
}
