{
 "cells": [
  {
   "cell_type": "code",
   "execution_count": null,
   "metadata": {
    "collapsed": false
   },
   "outputs": [],
   "source": [
    "import holoviews as hv\n",
    "import geoviews as gv\n",
    "import iris\n",
    "\n",
    "hv.notebook_extension()"
   ]
  },
  {
   "cell_type": "markdown",
   "metadata": {},
   "source": [
    "# Preparing Your Cube"
   ]
  },
  {
   "cell_type": "markdown",
   "metadata": {},
   "source": [
    "When using any iris data set, the first thing you have to do is load your cube(s).  To be able to use this cube with Holoviews, Geoviews, and/or a Cube Browser, you need to turn this cube into a Holoviews Dataset."
   ]
  },
  {
   "cell_type": "code",
   "execution_count": null,
   "metadata": {
    "collapsed": false
   },
   "outputs": [],
   "source": [
    "cube = iris.load_cube((iris.sample_data_path('GloSea4', 'ensemble_001.pp')))\n",
    "print cube"
   ]
  },
  {
   "cell_type": "code",
   "execution_count": null,
   "metadata": {
    "collapsed": false
   },
   "outputs": [],
   "source": [
    "surface_temp = hv.Dataset(cube)\n",
    "print surface_temp"
   ]
  },
  {
   "cell_type": "markdown",
   "metadata": {},
   "source": [
    "# Constructing a Plot"
   ]
  },
  {
   "cell_type": "markdown",
   "metadata": {},
   "source": [
    "You will now need to decide what type of plot you wish to make using your dataset.  The types of plot that you have available are called [Elements](http://holoviews.org/Tutorials/Elements.html) and are analogous to those used by Matplotlib.  Additionally, you have the option of using various Layout or Overlay options as your Element.  These will be described in more detail in the [Options](options_example.ipynb) section.\n",
    "\n",
    "Here, we will use the Element 'Image' as an example."
   ]
  },
  {
   "cell_type": "code",
   "execution_count": null,
   "metadata": {
    "collapsed": false
   },
   "outputs": [],
   "source": [
    "plot1 = surface_temp.to.image(['latitude', 'longitude'])\n",
    "plot1"
   ]
  },
  {
   "cell_type": "markdown",
   "metadata": {},
   "source": [
    "You can see that in the syntax above, we have selected the coordinates we wish to use as our x and y axis, and the remaining coordinate has been turned into a slider.  This is applicable to cubes with a higher number of dimensions; those that are not a plot axis will become a slider.\n",
    "\n",
    "It is also possible to pass in some plotting options as a callable using a slightly different syntax."
   ]
  },
  {
   "cell_type": "code",
   "execution_count": null,
   "metadata": {
    "collapsed": false
   },
   "outputs": [],
   "source": [
    "plot2 = surface_temp.to(hv.Curve, ['time'], dynamic=True)\n",
    "plot2"
   ]
  }
 ],
 "metadata": {
  "kernelspec": {
   "display_name": "Python 2",
   "language": "python",
   "name": "python2"
  },
  "language_info": {
   "codemirror_mode": {
    "name": "ipython",
    "version": 2
   },
   "file_extension": ".py",
   "mimetype": "text/x-python",
   "name": "python",
   "nbconvert_exporter": "python",
   "pygments_lexer": "ipython2",
   "version": "2.7.11"
  }
 },
 "nbformat": 4,
 "nbformat_minor": 0
}
