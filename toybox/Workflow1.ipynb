{
 "cells": [
  {
   "cell_type": "markdown",
   "metadata": {
    "urth": {
     "dashboard": {}
    }
   },
   "source": [
    "# Workflow Example 1"
   ]
  },
  {
   "cell_type": "markdown",
   "metadata": {
    "urth": {
     "dashboard": {}
    }
   },
   "source": [
    "This is based on a simple workflow, where only one cube is chosen with one dimension to plot over and a restricted number of customization options.\n",
    "\n",
    "This is not a typical workflow, but it's a good start."
   ]
  },
  {
   "cell_type": "code",
   "execution_count": null,
   "metadata": {
    "collapsed": false,
    "urth": {
     "dashboard": {
      "hidden": true
     }
    }
   },
   "outputs": [],
   "source": [
    "import ipywidgets\n",
    "import IPython.display\n",
    "import iris\n",
    "\n",
    "import glob\n",
    "import numpy as np\n",
    "import iris.quickplot as iplt\n",
    "import matplotlib.pyplot as plt"
   ]
  },
  {
   "cell_type": "code",
   "execution_count": null,
   "metadata": {
    "collapsed": true,
    "urth": {
     "dashboard": {
      "hidden": true
     }
    }
   },
   "outputs": [],
   "source": [
    "%matplotlib inline"
   ]
  },
  {
   "cell_type": "markdown",
   "metadata": {
    "urth": {
     "dashboard": {}
    }
   },
   "source": [
    "# 1. Choose and load your cube"
   ]
  },
  {
   "cell_type": "markdown",
   "metadata": {
    "urth": {
     "dashboard": {}
    }
   },
   "source": [
    "Create cube picker consiting of a text acceptor for the file path and a multiple selection pane for the cube selector"
   ]
  },
  {
   "cell_type": "code",
   "execution_count": null,
   "metadata": {
    "collapsed": false,
    "urth": {
     "dashboard": {
      "hidden": true
     }
    }
   },
   "outputs": [],
   "source": [
    "path = ipywidgets.Text(\n",
    "    description='String:',\n",
    "    value='/tmp',\n",
    ")\n",
    "IPython.display.display(path)"
   ]
  },
  {
   "cell_type": "code",
   "execution_count": null,
   "metadata": {
    "collapsed": false,
    "urth": {
     "dashboard": {
      "hidden": true
     }
    }
   },
   "outputs": [],
   "source": [
    "options = glob.glob('{}/*'.format(path.value)) # Can we do this in a different form, so that we can see the options \n",
    "                                               # without the file path?\n",
    "\n",
    "files = ipywidgets.SelectMultiple(\n",
    "    description=path.value,\n",
    "    options=options\n",
    ")\n",
    "IPython.display.display(files)"
   ]
  },
  {
   "cell_type": "markdown",
   "metadata": {
    "urth": {
     "dashboard": {}
    }
   },
   "source": [
    "At this point we need to see the cube or cubelist in order to make a decision about what to do next.  For example, if we have one cube then we can move on to the next stage (choosing the plot type) whereas if we have a list of cubes then we have to choose one of those cubes to carry forward and choose the plot type for.  Then, of course, there is the possibility that a user would want to plot several cubes with the same types and settings, so maybe this stage also needs a multiple cube selector.\n",
    "\n",
    "This would be much easier with a file browser or some equivalent, which would allow the user to see what they are selecting (i.e. whether it is a folder or a file) and then have more control over the cubes they are selecting.  Then later on in the workflow, an option to plot another cube could follow.  This, however, would not allow for multiple plots and plot types with a single associated slider.\n",
    "\n",
    "Hmmm......"
   ]
  },
  {
   "cell_type": "code",
   "execution_count": null,
   "metadata": {
    "collapsed": false,
    "urth": {
     "dashboard": {}
    }
   },
   "outputs": [],
   "source": [
    "cubes = files.value\n",
    "\n",
    "for i in range(len(cubes)):\n",
    "    print cubes[i]\n",
    "    if cubes[i][-2:] == 'nc' or cubes[i][-2:] == 'pp': # This is currently not taking grib files into \n",
    "                                                           # account coz they are hard to identify.  Also no ff.\n",
    "        cubelist = iris.load_raw(cubes[i])\n",
    "    else:\n",
    "        print 'This is not a cube, please try another selection.'\n",
    "\n",
    "print cubelist        "
   ]
  },
  {
   "cell_type": "markdown",
   "metadata": {
    "urth": {
     "dashboard": {}
    }
   },
   "source": [
    "Select which cubes you would like to use if you have loaded a cubelist"
   ]
  },
  {
   "cell_type": "code",
   "execution_count": null,
   "metadata": {
    "collapsed": false,
    "urth": {
     "dashboard": {
      "hidden": true
     }
    }
   },
   "outputs": [],
   "source": [
    "to_plot = [cube.standard_name for cube in cubelist]\n",
    "\n",
    "plots = ipywidgets.SelectMultiple(\n",
    "description='Choose cube(s)',\n",
    "options=to_plot\n",
    ")\n",
    "\n",
    "IPython.display.display(plots)"
   ]
  },
  {
   "cell_type": "markdown",
   "metadata": {
    "urth": {
     "dashboard": {}
    }
   },
   "source": [
    "I feel that at this point we need a 'continue' button.  In actual fact we probably need several of these at various points in the workflow.  I am coming round to this way of thinking because at nearly every selection point, a dependency is created, so before the next set of options can be displayed, the current selection must be set in order to generate those options.\n",
    "\n",
    "If this was not the case, I can't see how this is going to work.\n",
    "\n",
    "You could offer only options which are applicable to every case, which is incredibly limited, or you could offer every single option available in every case, which would chuck out an error in many cases.  Neither of these feel ideal."
   ]
  },
  {
   "cell_type": "markdown",
   "metadata": {
    "urth": {
     "dashboard": {}
    }
   },
   "source": [
    "# 2. Choose your plot options"
   ]
  },
  {
   "cell_type": "markdown",
   "metadata": {
    "urth": {
     "dashboard": {}
    }
   },
   "source": [
    "Create plot-type picker"
   ]
  },
  {
   "cell_type": "code",
   "execution_count": null,
   "metadata": {
    "collapsed": true,
    "urth": {
     "dashboard": {
      "hidden": true
     }
    }
   },
   "outputs": [],
   "source": [
    "plot_type_dict = {'contour': iplt.contour, 'contourf': iplt.contourf, 'pcolor': iplt.pcolor, 'outline': iplt.outline,\n",
    "                  'pcolormesh': iplt.pcolormesh, 'plot': iplt.plot, 'points': iplt.points}\n",
    "\n",
    "plot_types = plot_type_dict.keys()\n",
    "plot_types.sort()\n",
    "\n",
    "type = ipywidgets.Dropdown(\n",
    "    options=plot_types,\n",
    "    value='contour',\n",
    "    description='Plot-type:')\n",
    "\n",
    "IPython.display.display(type)"
   ]
  },
  {
   "cell_type": "markdown",
   "metadata": {
    "urth": {
     "dashboard": {}
    }
   },
   "source": [
    "You will be able to use this later using:\n",
    "```python\n",
    "callable = plot_type_dict[type.value]\n",
    "callable(plots.value)\n",
    "```"
   ]
  },
  {
   "cell_type": "markdown",
   "metadata": {
    "urth": {
     "dashboard": {}
    }
   },
   "source": [
    "Create axis coordinate pickers for x and y axis"
   ]
  },
  {
   "cell_type": "code",
   "execution_count": null,
   "metadata": {
    "collapsed": false,
    "urth": {
     "dashboard": {
      "hidden": true
     }
    }
   },
   "outputs": [],
   "source": [
    "base_cube = iris.load_cube(files.value, plots.value[0])\n",
    "# base_cube is the first cube chosen from the list.\n",
    "# This method will work provided that all the cubes chosen have the same coordinates.\n",
    "\n",
    "coordinates = [(coord.name()) for coord in base_cube.coords()]\n",
    "for i in range(len(plots.value)):\n",
    "    coordinates.append(plots.value[i])\n",
    "\n",
    "dim_x = ipywidgets.RadioButtons(\n",
    "    description='Dimension for x:',\n",
    "    options=coordinates)\n",
    "\n",
    "IPython.display.display(dim_x)"
   ]
  },
  {
   "cell_type": "code",
   "execution_count": null,
   "metadata": {
    "collapsed": false,
    "urth": {
     "dashboard": {
      "hidden": true
     }
    }
   },
   "outputs": [],
   "source": [
    "if dim_x.value in coordinates:\n",
    "    coordinates.remove(dim_x.value)\n",
    "\n",
    "dim_y = ipywidgets.RadioButtons(\n",
    "    description='Dimension for y:',\n",
    "    options=coordinates)\n",
    "\n",
    "IPython.display.display(dim_y)"
   ]
  },
  {
   "cell_type": "code",
   "execution_count": null,
   "metadata": {
    "collapsed": false,
    "urth": {
     "dashboard": {
      "hidden": true
     }
    }
   },
   "outputs": [],
   "source": [
    "# coordinates.remove(dim_y.value)\n",
    "\n",
    "# slider = ipywidgets.RadioButtons(\n",
    "#     description='Dimension for slider:',\n",
    "#     options=coordinates)\n",
    "\n",
    "# IPython.display.display(slider)\n"
   ]
  },
  {
   "cell_type": "code",
   "execution_count": null,
   "metadata": {
    "collapsed": false,
    "urth": {
     "dashboard": {
      "hidden": true
     }
    }
   },
   "outputs": [],
   "source": [
    "# index = ipywidgets.IntSlider(\n",
    "#     value = 0,\n",
    "#     min=0,\n",
    "#     max=len(cube.coord(slider.value).points-1),\n",
    "#     step=1,\n",
    "#     description='Index of ' + slider.value)\n",
    "\n",
    "# #IPython.display.display(index)\n"
   ]
  },
  {
   "cell_type": "markdown",
   "metadata": {},
   "source": [
    "I had originally made a menu to choose which dimension to slide through, but it has occurred to me that you may want to slide through all dimensions.  This will probably be easier than choosing a dimension and then slicing all other dimensions, as this would probably have to assume an index to slice.  Otherwise, this is going to get even more complex."
   ]
  },
  {
   "cell_type": "code",
   "execution_count": null,
   "metadata": {
    "collapsed": false
   },
   "outputs": [],
   "source": [
    "if dim_y.value in coordinates:\n",
    "    coordinates.remove(dim_y.value)\n",
    "\n",
    "index = []\n",
    "for i in range(len(coordinates)):\n",
    "    coord_index = ipywidgets.IntSlider(\n",
    "        value=0,\n",
    "        min=0,\n",
    "        max=len(base_cube.coord(coordinates[i]).points-1),\n",
    "        step=1,\n",
    "        description='Index of ' + coordinates[i])\n",
    "    index.append(coord_index)\n",
    "    IPython.display.display(index[i])"
   ]
  },
  {
   "cell_type": "markdown",
   "metadata": {
    "urth": {
     "dashboard": {}
    }
   },
   "source": [
    "# Choose your formatting options"
   ]
  },
  {
   "cell_type": "markdown",
   "metadata": {
    "urth": {
     "dashboard": {}
    }
   },
   "source": [
    "Here we need to take stock of which type of plot has been chosen, and offer an appropriate set of formatting options for that plot type.  This could take a bit of work to be complete and comprehensive.\n",
    "\n",
    "A big problem that I am having is that some options can be either a boolean or a set value, or a string, or a float, etc., and the list of options is really too long to offer as a dropdown.  It might be possible to add a string entry widget to the options of a drowdown widget, but this is going to make the code very complicated; probably unnecessarily so.  This means that the input options are going to be very restricted at this stage."
   ]
  },
  {
   "cell_type": "code",
   "execution_count": 136,
   "metadata": {
    "collapsed": false
   },
   "outputs": [],
   "source": [
    "# All:\n",
    "corner_mask = ipywidgets.Dropdown(\n",
    "    options=['True', 'False', 'legacy'],\n",
    "    value='True',\n",
    "    description='corner_mask')\n",
    "colors = ipywidgets.Dropdown(\n",
    "    options=['None', 'blue', 'green', 'red', 'cyan', 'magenta', 'yellow', 'black', 'white'],\n",
    "    value='blue',\n",
    "    description='colors')\n",
    "cmap = ipywidgets.Dropdown(\n",
    "    options=['None', 'viridis', 'inferno', 'plasma', 'magma', 'jet', 'summer', 'autumn'],\n",
    "    value='None',\n",
    "    description='cmap')\n",
    "norm = ipywidgets.Dropdown(\n",
    "    options=['None', 'Autoscale(A)', 'Autoscale_None(A)', 'scaled()'],\n",
    "    value='None',\n",
    "    description='norm')\n",
    "levels = ipywidgets.Text(\n",
    "    description='levels',\n",
    "    value='np.linspace(np.min(cube.data), np.max(cube.data), 10)')\n",
    "origin = ipywidgets.Dropdown(\n",
    "    options=['None', 'upper', 'lower', 'image'],\n",
    "    value='None',\n",
    "    description='origin')\n",
    "extend = ipywidgets.Dropdown(\n",
    "    options=['neither', 'both', 'min', 'max'],\n",
    "    value='both',\n",
    "    description='extend')\n",
    "# Contour-only:\n",
    "linestyles = ipywidgets.Dropdown(\n",
    "    options=['None', 'solid', 'dashed', 'dashdot', 'dotted'],\n",
    "    value='None',\n",
    "    description='linestyle')\n",
    "# Plot only:\n",
    "label = ipywidgets.Text(\n",
    "    description='label',\n",
    "    value='Line Plot')\n",
    "# Plot and Points only:\n",
    "color = ipywidgets.Dropdown(\n",
    "    options=['blue', 'green', 'red', 'cyan', 'magenta', 'yellow', 'black', 'white'],\n",
    "    value='blue',\n",
    "    description='color')\n",
    "marker = ipywidgets.Dropdown(\n",
    "    options=['-', '--', '-.', ':', '.', ',', 'o', 'v', '^', '<', '>', '*', 'x'],\n",
    "    value='-',\n",
    "    description='marker')\n",
    "    \n",
    "formatting = [corner_mask, colors, cmap, norm, levels, origin, extend]\n",
    "    \n",
    "if type.value in ['contourf', 'outline', 'pcolor', 'pcolormesh']:\n",
    "    for i in range(len(formatting)):\n",
    "        IPython.display.display(formatting[i])\n",
    "elif type.value == 'contour':\n",
    "    formatting.append(linestyles)\n",
    "    for i in range(len(formatting)):\n",
    "        IPython.display.display(formatting[i])\n",
    "elif type.value == 'plot':\n",
    "    formatting.append(label)\n",
    "    formatting.append(color)\n",
    "    formatting.append(marker)\n",
    "    for i in range(len(formatting)):\n",
    "        IPython.display.display(formatting[i])\n",
    "elif type.value == 'points':\n",
    "    formatting.remove(colors)\n",
    "    formatting.append(color)\n",
    "    formatting.append(marker)    \n",
    "    for i in range(len(formatting)):\n",
    "        IPython.display.display(formatting[i])\n",
    "    "
   ]
  },
  {
   "cell_type": "markdown",
   "metadata": {
    "urth": {
     "dashboard": {}
    }
   },
   "source": [
    "# Make your plot"
   ]
  },
  {
   "cell_type": "markdown",
   "metadata": {
    "urth": {
     "dashboard": {}
    }
   },
   "source": [
    "This will require a button which does all the things that make a plot when you press it."
   ]
  },
  {
   "cell_type": "code",
   "execution_count": 142,
   "metadata": {
    "collapsed": false,
    "urth": {
     "dashboard": {
      "hidden": true
     }
    }
   },
   "outputs": [
    {
     "name": "stdout",
     "output_type": "stream",
     "text": [
      "surface_temperature / (K)           (time: 54; latitude: 18; longitude: 432)\n",
      "     Dimension coordinates:\n",
      "          time                           x             -              -\n",
      "          latitude                       -             x              -\n",
      "          longitude                      -             -              x\n",
      "     Auxiliary coordinates:\n",
      "          forecast_reference_time        x             -              -\n",
      "     Scalar coordinates:\n",
      "          forecast_period: 0 hours\n",
      "     Attributes:\n",
      "          Conventions: CF-1.5\n",
      "          STASH: m01s00i024\n",
      "     Cell methods:\n",
      "          mean: month, year\n"
     ]
    },
    {
     "ename": "ValueError",
     "evalue": "Cube must be 2-dimensional. Got 3 dimensions.",
     "output_type": "error",
     "traceback": [
      "\u001b[1;31m---------------------------------------------------------------------------\u001b[0m",
      "\u001b[1;31mValueError\u001b[0m                                Traceback (most recent call last)",
      "\u001b[1;32m<ipython-input-142-7aaf54338b96>\u001b[0m in \u001b[0;36m<module>\u001b[1;34m()\u001b[0m\n\u001b[0;32m     34\u001b[0m     \u001b[0mcube\u001b[0m \u001b[1;33m=\u001b[0m \u001b[0miris\u001b[0m\u001b[1;33m.\u001b[0m\u001b[0mload_cube\u001b[0m\u001b[1;33m(\u001b[0m\u001b[0mfiles\u001b[0m\u001b[1;33m.\u001b[0m\u001b[0mvalue\u001b[0m\u001b[1;33m,\u001b[0m \u001b[0mplots\u001b[0m\u001b[1;33m.\u001b[0m\u001b[0mvalue\u001b[0m\u001b[1;33m[\u001b[0m\u001b[0mj\u001b[0m\u001b[1;33m]\u001b[0m\u001b[1;33m)\u001b[0m\u001b[1;33m\u001b[0m\u001b[0m\n\u001b[0;32m     35\u001b[0m     \u001b[1;32mprint\u001b[0m \u001b[0mcube\u001b[0m\u001b[1;33m\u001b[0m\u001b[0m\n\u001b[1;32m---> 36\u001b[1;33m     \u001b[0mcallable\u001b[0m\u001b[1;33m(\u001b[0m\u001b[0mcube\u001b[0m\u001b[1;33m,\u001b[0m \u001b[1;33m**\u001b[0m\u001b[0mplot_opts\u001b[0m\u001b[1;33m)\u001b[0m\u001b[1;33m\u001b[0m\u001b[0m\n\u001b[0m\u001b[0;32m     37\u001b[0m     \u001b[0miplt\u001b[0m\u001b[1;33m.\u001b[0m\u001b[0mshow\u001b[0m\u001b[1;33m(\u001b[0m\u001b[1;33m)\u001b[0m\u001b[1;33m\u001b[0m\u001b[0m\n",
      "\u001b[1;32m/data/local/cbosley/mc/iris/lib/iris/quickplot.pyc\u001b[0m in \u001b[0;36mcontour\u001b[1;34m(cube, *args, **kwargs)\u001b[0m\n\u001b[0;32m    159\u001b[0m     \"\"\"\n\u001b[0;32m    160\u001b[0m     \u001b[0mcoords\u001b[0m \u001b[1;33m=\u001b[0m \u001b[0mkwargs\u001b[0m\u001b[1;33m.\u001b[0m\u001b[0mget\u001b[0m\u001b[1;33m(\u001b[0m\u001b[1;34m'coords'\u001b[0m\u001b[1;33m)\u001b[0m\u001b[1;33m\u001b[0m\u001b[0m\n\u001b[1;32m--> 161\u001b[1;33m     \u001b[0mresult\u001b[0m \u001b[1;33m=\u001b[0m \u001b[0miplt\u001b[0m\u001b[1;33m.\u001b[0m\u001b[0mcontour\u001b[0m\u001b[1;33m(\u001b[0m\u001b[0mcube\u001b[0m\u001b[1;33m,\u001b[0m \u001b[1;33m*\u001b[0m\u001b[0margs\u001b[0m\u001b[1;33m,\u001b[0m \u001b[1;33m**\u001b[0m\u001b[0mkwargs\u001b[0m\u001b[1;33m)\u001b[0m\u001b[1;33m\u001b[0m\u001b[0m\n\u001b[0m\u001b[0;32m    162\u001b[0m     \u001b[0m_label_with_points\u001b[0m\u001b[1;33m(\u001b[0m\u001b[0mcube\u001b[0m\u001b[1;33m,\u001b[0m \u001b[0mcoords\u001b[0m\u001b[1;33m=\u001b[0m\u001b[0mcoords\u001b[0m\u001b[1;33m)\u001b[0m\u001b[1;33m\u001b[0m\u001b[0m\n\u001b[0;32m    163\u001b[0m     \u001b[1;32mreturn\u001b[0m \u001b[0mresult\u001b[0m\u001b[1;33m\u001b[0m\u001b[0m\n",
      "\u001b[1;32m/data/local/cbosley/mc/iris/lib/iris/plot.pyc\u001b[0m in \u001b[0;36mcontour\u001b[1;34m(cube, *args, **kwargs)\u001b[0m\n\u001b[0;32m    636\u001b[0m \u001b[1;33m\u001b[0m\u001b[0m\n\u001b[0;32m    637\u001b[0m     \"\"\"\n\u001b[1;32m--> 638\u001b[1;33m     \u001b[0mresult\u001b[0m \u001b[1;33m=\u001b[0m \u001b[0m_draw_2d_from_points\u001b[0m\u001b[1;33m(\u001b[0m\u001b[1;34m'contour'\u001b[0m\u001b[1;33m,\u001b[0m \u001b[0mNone\u001b[0m\u001b[1;33m,\u001b[0m \u001b[0mcube\u001b[0m\u001b[1;33m,\u001b[0m \u001b[1;33m*\u001b[0m\u001b[0margs\u001b[0m\u001b[1;33m,\u001b[0m \u001b[1;33m**\u001b[0m\u001b[0mkwargs\u001b[0m\u001b[1;33m)\u001b[0m\u001b[1;33m\u001b[0m\u001b[0m\n\u001b[0m\u001b[0;32m    639\u001b[0m     \u001b[1;32mreturn\u001b[0m \u001b[0mresult\u001b[0m\u001b[1;33m\u001b[0m\u001b[0m\n\u001b[0;32m    640\u001b[0m \u001b[1;33m\u001b[0m\u001b[0m\n",
      "\u001b[1;32m/data/local/cbosley/mc/iris/lib/iris/plot.pyc\u001b[0m in \u001b[0;36m_draw_2d_from_points\u001b[1;34m(draw_method_name, arg_func, cube, *args, **kwargs)\u001b[0m\n\u001b[0;32m    302\u001b[0m         \u001b[0mplot_defn\u001b[0m \u001b[1;33m=\u001b[0m \u001b[0m_get_plot_defn_custom_coords_picked\u001b[0m\u001b[1;33m(\u001b[0m\u001b[0mcube\u001b[0m\u001b[1;33m,\u001b[0m \u001b[0mcoords\u001b[0m\u001b[1;33m,\u001b[0m \u001b[0mmode\u001b[0m\u001b[1;33m)\u001b[0m\u001b[1;33m\u001b[0m\u001b[0m\n\u001b[0;32m    303\u001b[0m     \u001b[1;32melse\u001b[0m\u001b[1;33m:\u001b[0m\u001b[1;33m\u001b[0m\u001b[0m\n\u001b[1;32m--> 304\u001b[1;33m         \u001b[0mplot_defn\u001b[0m \u001b[1;33m=\u001b[0m \u001b[0m_get_plot_defn\u001b[0m\u001b[1;33m(\u001b[0m\u001b[0mcube\u001b[0m\u001b[1;33m,\u001b[0m \u001b[0mmode\u001b[0m\u001b[1;33m,\u001b[0m \u001b[0mndims\u001b[0m\u001b[1;33m=\u001b[0m\u001b[1;36m2\u001b[0m\u001b[1;33m)\u001b[0m\u001b[1;33m\u001b[0m\u001b[0m\n\u001b[0m\u001b[0;32m    305\u001b[0m \u001b[1;33m\u001b[0m\u001b[0m\n\u001b[0;32m    306\u001b[0m     \u001b[1;32mif\u001b[0m \u001b[0m_can_draw_map\u001b[0m\u001b[1;33m(\u001b[0m\u001b[0mplot_defn\u001b[0m\u001b[1;33m.\u001b[0m\u001b[0mcoords\u001b[0m\u001b[1;33m)\u001b[0m\u001b[1;33m:\u001b[0m\u001b[1;33m\u001b[0m\u001b[0m\n",
      "\u001b[1;32m/data/local/cbosley/mc/iris/lib/iris/plot.pyc\u001b[0m in \u001b[0;36m_get_plot_defn\u001b[1;34m(cube, mode, ndims)\u001b[0m\n\u001b[0;32m    121\u001b[0m     \u001b[1;32mif\u001b[0m \u001b[0mcube\u001b[0m\u001b[1;33m.\u001b[0m\u001b[0mndim\u001b[0m \u001b[1;33m!=\u001b[0m \u001b[0mndims\u001b[0m\u001b[1;33m:\u001b[0m\u001b[1;33m\u001b[0m\u001b[0m\n\u001b[0;32m    122\u001b[0m         \u001b[0mmsg\u001b[0m \u001b[1;33m=\u001b[0m \u001b[1;34m'Cube must be %s-dimensional. Got %s dimensions.'\u001b[0m\u001b[1;33m\u001b[0m\u001b[0m\n\u001b[1;32m--> 123\u001b[1;33m         \u001b[1;32mraise\u001b[0m \u001b[0mValueError\u001b[0m\u001b[1;33m(\u001b[0m\u001b[0mmsg\u001b[0m \u001b[1;33m%\u001b[0m \u001b[1;33m(\u001b[0m\u001b[0mndims\u001b[0m\u001b[1;33m,\u001b[0m \u001b[0mcube\u001b[0m\u001b[1;33m.\u001b[0m\u001b[0mndim\u001b[0m\u001b[1;33m)\u001b[0m\u001b[1;33m)\u001b[0m\u001b[1;33m\u001b[0m\u001b[0m\n\u001b[0m\u001b[0;32m    124\u001b[0m \u001b[1;33m\u001b[0m\u001b[0m\n\u001b[0;32m    125\u001b[0m     \u001b[1;31m# Start by taking the DimCoords from each dimension.\u001b[0m\u001b[1;33m\u001b[0m\u001b[1;33m\u001b[0m\u001b[0m\n",
      "\u001b[1;31mValueError\u001b[0m: Cube must be 2-dimensional. Got 3 dimensions."
     ]
    }
   ],
   "source": [
    "# Making the plot will take some more work because the divergent options will create a lot of variables here which may \n",
    "# or may not be used.  This means that the further we get into dependecies and the more we have in a notebook, the more\n",
    "# if statements will have to be made in the call to plot.\n",
    "\n",
    "# This looks like it could get very messy...\n",
    "\n",
    "\n",
    "callable = plot_type_dict[type.value]\n",
    "\n",
    "## This should not be necessary as the x-value is removed for the list of y-values, but I will leave it in just in case.\n",
    "# if dim_x.value == dim_y.value:\n",
    "#     print 'You are plotting the same coordinate on x and y.  Did you mean to do that?  \\\n",
    "#         You should change one axis coordinate because this plot makes no sense.'\n",
    "# else:\n",
    "#     for j in range(len(plots.value)):\n",
    "#         print plots.value[j]\n",
    "#         callable(plots.value[j])\n",
    "#         iplt.show()\n",
    "\n",
    "plot_opts = {'corner_mask':corner_mask.value, 'colors':colors.value, 'cmap':cmap.value, \n",
    "                 'norm':norm.value, 'levels':eval(levels.value), 'origin':origin.value, 'extend':extend.value}\n",
    "if type.value == 'contour':\n",
    "    plot_opts['linestyles'] = linestyles.value\n",
    "elif type.value == 'plot':\n",
    "    plot_opts['label'] = label.value\n",
    "    plot_opts['color'] = color.value\n",
    "    plot_opts['marker'] = marker.value   \n",
    "elif type.value == 'points':\n",
    "    del plot_opts['colors']\n",
    "    plot_opts['color'] = color.value\n",
    "    plot_opts['marker'] = marker.value    \n",
    "\n",
    "for j in range(len(plots.value)):\n",
    "    cube = iris.load_cube(files.value, plots.value[j])\n",
    "    # Need to find a way of extracting the value of the slice from the slider and plotting it here.\n",
    "    # I have two problems here.\n",
    "    # The first is that the plot will need to change WITH the slider. \n",
    "    # The second is that the plotting routine only looks for dimension coordinates, but the slider list also contains\n",
    "    # auxiliary coordinates.\n",
    "    callable(cube, **plot_opts)\n",
    "    iplt.show()"
   ]
  },
  {
   "cell_type": "code",
   "execution_count": null,
   "metadata": {
    "collapsed": true,
    "urth": {
     "dashboard": {
      "hidden": true
     }
    }
   },
   "outputs": [],
   "source": []
  }
 ],
 "metadata": {
  "kernelspec": {
   "display_name": "Python 2",
   "language": "python",
   "name": "python2"
  },
  "language_info": {
   "codemirror_mode": {
    "name": "ipython",
    "version": 2
   },
   "file_extension": ".py",
   "mimetype": "text/x-python",
   "name": "python",
   "nbconvert_exporter": "python",
   "pygments_lexer": "ipython2",
   "version": "2.7.11"
  },
  "urth": {
   "dashboard": {
    "layout": "report"
   }
  }
 },
 "nbformat": 4,
 "nbformat_minor": 0
}
