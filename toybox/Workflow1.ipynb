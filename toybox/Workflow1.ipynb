{
 "cells": [
  {
   "cell_type": "markdown",
   "metadata": {
    "urth": {
     "dashboard": {}
    }
   },
   "source": [
    "# Workflow Example 1"
   ]
  },
  {
   "cell_type": "markdown",
   "metadata": {
    "urth": {
     "dashboard": {}
    }
   },
   "source": [
    "This is based on a simple workflow, where only one cube is chosen with one dimension to plot over and a restricted number of customization options.\n",
    "\n",
    "This is not a typical workflow, but it's a good start."
   ]
  },
  {
   "cell_type": "code",
   "execution_count": null,
   "metadata": {
    "collapsed": false,
    "urth": {
     "dashboard": {
      "hidden": true
     }
    }
   },
   "outputs": [],
   "source": [
    "import ipywidgets\n",
    "import IPython.display\n",
    "import iris\n",
    "\n",
    "import glob\n",
    "import numpy as np\n",
    "import iris.quickplot as iplt\n",
    "import matplotlib.pyplot as plt"
   ]
  },
  {
   "cell_type": "code",
   "execution_count": null,
   "metadata": {
    "collapsed": true,
    "urth": {
     "dashboard": {
      "hidden": true
     }
    }
   },
   "outputs": [],
   "source": [
    "%matplotlib inline"
   ]
  },
  {
   "cell_type": "markdown",
   "metadata": {
    "urth": {
     "dashboard": {}
    }
   },
   "source": [
    "# 1. Choose and load your cube"
   ]
  },
  {
   "cell_type": "markdown",
   "metadata": {
    "urth": {
     "dashboard": {}
    }
   },
   "source": [
    "Create cube picker consiting of a text acceptor for the file path and a multiple selection pane for the cube selector"
   ]
  },
  {
   "cell_type": "code",
   "execution_count": null,
   "metadata": {
    "collapsed": false,
    "urth": {
     "dashboard": {
      "hidden": true
     }
    }
   },
   "outputs": [],
   "source": [
    "path = ipywidgets.Text(\n",
    "    description='String:',\n",
    "    value='/tmp',\n",
    ")\n",
    "IPython.display.display(path)"
   ]
  },
  {
   "cell_type": "code",
   "execution_count": null,
   "metadata": {
    "collapsed": false,
    "urth": {
     "dashboard": {
      "hidden": true
     }
    }
   },
   "outputs": [],
   "source": [
    "options = glob.glob('{}/*'.format(path.value)) # Can we do this in a different form, so that we can see the options \n",
    "                                               # without the file path?\n",
    "\n",
    "files = ipywidgets.SelectMultiple(\n",
    "    description=path.value,\n",
    "    options=options\n",
    ")\n",
    "IPython.display.display(files)"
   ]
  },
  {
   "cell_type": "markdown",
   "metadata": {
    "urth": {
     "dashboard": {}
    }
   },
   "source": [
    "At this point we need to see the cube or cubelist in order to make a decision about what to do next.  For example, if we have one cube then we can move on to the next stage (choosing the plot type) whereas if we have a list of cubes then we have to choose one of those cubes to carry forward and choose the plot type for.  Then, of course, there is the possibility that a user would want to plot several cubes with the same types and settings, so maybe this stage also needs a multiple cube selector.\n",
    "\n",
    "This would be much easier with a file browser or some equivalent, which would allow the user to see what they are selecting (i.e. whether it is a folder or a file) and then have more control over the cubes they are selecting.  Then later on in the workflow, an option to plot another cube could follow.  This, however, would not allow for multiple plots and plot types with a single associated slider.\n",
    "\n",
    "Hmmm......"
   ]
  },
  {
   "cell_type": "code",
   "execution_count": null,
   "metadata": {
    "collapsed": false,
    "urth": {
     "dashboard": {}
    }
   },
   "outputs": [],
   "source": [
    "cubes = files.value\n",
    "\n",
    "for i in range(len(cubes)):\n",
    "    print cubes[i]\n",
    "    if cubes[i][-2:] == 'nc' or cubes[i][-2:] == 'pp': # This is currently not taking grib files into \n",
    "                                                           # account coz they are hard to identify.  Also no ff.\n",
    "        cubelist = iris.load_raw(cubes[i])\n",
    "    else:\n",
    "        print 'This is not a cube, please try another selection.'\n",
    "\n",
    "print cubelist        "
   ]
  },
  {
   "cell_type": "markdown",
   "metadata": {
    "urth": {
     "dashboard": {}
    }
   },
   "source": [
    "Select which cubes you would like to use if you have loaded a cubelist"
   ]
  },
  {
   "cell_type": "code",
   "execution_count": null,
   "metadata": {
    "collapsed": false,
    "urth": {
     "dashboard": {
      "hidden": true
     }
    }
   },
   "outputs": [],
   "source": [
    "to_plot = [cube.standard_name for cube in cubelist]\n",
    "\n",
    "plots = ipywidgets.SelectMultiple(\n",
    "description='Choose cube(s)',\n",
    "options=to_plot\n",
    ")\n",
    "\n",
    "IPython.display.display(plots)"
   ]
  },
  {
   "cell_type": "markdown",
   "metadata": {
    "urth": {
     "dashboard": {}
    }
   },
   "source": [
    "I feel that at this point we need a 'continue' button.  In actual fact we probably need several of these at various points in the workflow.  I am coming round to this way of thinking because at nearly every selection point, a dependency is created, so before the next set of options can be displayed, the current selection must be set in order to generate those options.\n",
    "\n",
    "If this was not the case, I can't see how this is going to work.\n",
    "\n",
    "You could offer only options which are applicable to every case, which is incredibly limited, or you could offer every single option available in every case, which would chuck out an error in many cases.  Neither of these feel ideal."
   ]
  },
  {
   "cell_type": "markdown",
   "metadata": {
    "urth": {
     "dashboard": {}
    }
   },
   "source": [
    "# 2. Choose your plot options"
   ]
  },
  {
   "cell_type": "markdown",
   "metadata": {
    "urth": {
     "dashboard": {}
    }
   },
   "source": [
    "Create plot-type picker"
   ]
  },
  {
   "cell_type": "code",
   "execution_count": null,
   "metadata": {
    "collapsed": true,
    "urth": {
     "dashboard": {
      "hidden": true
     }
    }
   },
   "outputs": [],
   "source": [
    "plot_type_dict = {'contour': iplt.contour, 'contourf': iplt.contourf, 'pcolor': iplt.pcolor, 'outline': iplt.outline,\n",
    "                  'pcolormesh': iplt.pcolormesh, 'plot': iplt.plot, 'points': iplt.points}\n",
    "\n",
    "plot_types = plot_type_dict.keys()\n",
    "plot_types.sort()\n",
    "\n",
    "type = ipywidgets.Dropdown(\n",
    "    options=plot_types,\n",
    "    value='contour',\n",
    "    description='Plot-type:')\n",
    "\n",
    "IPython.display.display(type)"
   ]
  },
  {
   "cell_type": "markdown",
   "metadata": {
    "urth": {
     "dashboard": {}
    }
   },
   "source": [
    "You will be able to use this later using:\n",
    "```python\n",
    "callable = plot_type_dict[type.value]\n",
    "callable(plots.value)\n",
    "```"
   ]
  },
  {
   "cell_type": "markdown",
   "metadata": {
    "urth": {
     "dashboard": {}
    }
   },
   "source": [
    "Create axis coordinate pickers for x and y axis"
   ]
  },
  {
   "cell_type": "code",
   "execution_count": null,
   "metadata": {
    "collapsed": false,
    "urth": {
     "dashboard": {
      "hidden": true
     }
    }
   },
   "outputs": [],
   "source": [
    "base_cube = iris.load_cube(files.value, plots.value[0])\n",
    "# base_cube is the first cube chosen from the list.\n",
    "# This method will work provided that all the cubes chosen have the same coordinates.\n",
    "\n",
    "coordinates = [(coord.name()) for coord in base_cube.coords()]\n",
    "for i in range(len(plots.value)):\n",
    "    coordinates.append(plots.value[i])\n",
    "\n",
    "dim_x = ipywidgets.RadioButtons(\n",
    "    description='Dimension for x:',\n",
    "    options=coordinates)\n",
    "\n",
    "IPython.display.display(dim_x)"
   ]
  },
  {
   "cell_type": "code",
   "execution_count": null,
   "metadata": {
    "collapsed": false,
    "urth": {
     "dashboard": {
      "hidden": true
     }
    }
   },
   "outputs": [],
   "source": [
    "if dim_x.value in coordinates:\n",
    "    coordinates.remove(dim_x.value)\n",
    "\n",
    "dim_y = ipywidgets.RadioButtons(\n",
    "    description='Dimension for y:',\n",
    "    options=coordinates)\n",
    "\n",
    "IPython.display.display(dim_y)"
   ]
  },
  {
   "cell_type": "code",
   "execution_count": null,
   "metadata": {
    "collapsed": false,
    "urth": {
     "dashboard": {
      "hidden": true
     }
    }
   },
   "outputs": [],
   "source": [
    "# coordinates.remove(dim_y.value)\n",
    "\n",
    "# slider = ipywidgets.RadioButtons(\n",
    "#     description='Dimension for slider:',\n",
    "#     options=coordinates)\n",
    "\n",
    "# IPython.display.display(slider)\n"
   ]
  },
  {
   "cell_type": "code",
   "execution_count": null,
   "metadata": {
    "collapsed": false,
    "urth": {
     "dashboard": {
      "hidden": true
     }
    }
   },
   "outputs": [],
   "source": [
    "# index = ipywidgets.IntSlider(\n",
    "#     value = 0,\n",
    "#     min=0,\n",
    "#     max=len(cube.coord(slider.value).points-1),\n",
    "#     step=1,\n",
    "#     description='Index of ' + slider.value)\n",
    "\n",
    "# #IPython.display.display(index)\n"
   ]
  },
  {
   "cell_type": "markdown",
   "metadata": {},
   "source": [
    "I had originally made a menu to choose which dimension to slide through, but it has occurred to me that you may want to slide through all dimensions.  This will probably be easier than choosing a dimension and then slicing all other dimensions, as this would probably have to assume an index to slice.  Otherwise, this is going to get even more complex."
   ]
  },
  {
   "cell_type": "code",
   "execution_count": null,
   "metadata": {
    "collapsed": false
   },
   "outputs": [],
   "source": [
    "if dim_y.value in coordinates:\n",
    "    coordinates.remove(dim_y.value)\n",
    "\n",
    "index = []\n",
    "for i in range(len(coordinates)):\n",
    "    coord_index = ipywidgets.IntSlider(\n",
    "        value=0,\n",
    "        min=0,\n",
    "        max=len(base_cube.coord(coordinates[i]).points-1),\n",
    "        step=1,\n",
    "        description='Index of ' + coordinates[i])\n",
    "    index.append(coord_index)\n",
    "    IPython.display.display(index[i])"
   ]
  },
  {
   "cell_type": "markdown",
   "metadata": {
    "urth": {
     "dashboard": {}
    }
   },
   "source": [
    "# Choose your formatting options"
   ]
  },
  {
   "cell_type": "markdown",
   "metadata": {
    "urth": {
     "dashboard": {}
    }
   },
   "source": [
    "Here we need to take stock of which type of plot has been chosen, and offer an appropriate set of formatting options for that plot type.  This could take a bit of work to be complete and comprehensive."
   ]
  },
  {
   "cell_type": "markdown",
   "metadata": {
    "urth": {
     "dashboard": {}
    }
   },
   "source": [
    "# Make your plot"
   ]
  },
  {
   "cell_type": "markdown",
   "metadata": {
    "urth": {
     "dashboard": {}
    }
   },
   "source": [
    "This will require a button which does all the things that make a plot when you press it."
   ]
  },
  {
   "cell_type": "code",
   "execution_count": null,
   "metadata": {
    "collapsed": false,
    "urth": {
     "dashboard": {
      "hidden": true
     }
    }
   },
   "outputs": [],
   "source": [
    "# Making the plot will take some more work because the divergent options will create a lot of variables here which may \n",
    "# or may not be used.  This means that the further we get into dependecies and the more we have in a notebook, the more\n",
    "# if statements will have to be made in the call to plot.\n",
    "\n",
    "# This looks like it could get very messy...\n",
    "\n",
    "\n",
    "callable = plot_type_dict[type.value]\n",
    "\n",
    "if dim_x.value == dim_y.value:\n",
    "    print 'You are plotting the same coordinate on x and y.  Did you mean to do that?  \\\n",
    "        You should change one axis coordinate because this plot makes no sense.'\n",
    "else:\n",
    "    for j in range(len(plots.value)):\n",
    "        print plots.value[j]\n",
    "        callable(plots.value[j])\n",
    "        iplt.show()"
   ]
  },
  {
   "cell_type": "code",
   "execution_count": null,
   "metadata": {
    "collapsed": true,
    "urth": {
     "dashboard": {
      "hidden": true
     }
    }
   },
   "outputs": [],
   "source": []
  }
 ],
 "metadata": {
  "kernelspec": {
   "display_name": "Python 2",
   "language": "python",
   "name": "python2"
  },
  "language_info": {
   "codemirror_mode": {
    "name": "ipython",
    "version": 2
   },
   "file_extension": ".py",
   "mimetype": "text/x-python",
   "name": "python",
   "nbconvert_exporter": "python",
   "pygments_lexer": "ipython2",
   "version": "2.7.11"
  },
  "urth": {
   "dashboard": {
    "layout": "report"
   }
  }
 },
 "nbformat": 4,
 "nbformat_minor": 0
}
