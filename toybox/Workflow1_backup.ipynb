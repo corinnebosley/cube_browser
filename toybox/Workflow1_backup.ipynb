{
 "cells": [
  {
   "cell_type": "markdown",
   "metadata": {
    "urth": {
     "dashboard": {}
    }
   },
   "source": [
    "# Workflow Example 1"
   ]
  },
  {
   "cell_type": "markdown",
   "metadata": {
    "urth": {
     "dashboard": {
      "hidden": true
     }
    }
   },
   "source": [
    "This is based on a simple workflow, where only one cube is chosen with one dimension to plot over and a restricted number of customization options.\n",
    "\n",
    "This is not a typical workflow, but it's a good start."
   ]
  },
  {
   "cell_type": "code",
   "execution_count": null,
   "metadata": {
    "collapsed": false,
    "urth": {
     "dashboard": {
      "hidden": true
     }
    }
   },
   "outputs": [],
   "source": [
    "import ipywidgets\n",
    "import IPython.display\n",
    "import iris\n",
    "\n",
    "import glob\n",
    "import numpy as np\n",
    "import iris.quickplot as iplt\n",
    "import matplotlib.pyplot as plt"
   ]
  },
  {
   "cell_type": "code",
   "execution_count": null,
   "metadata": {
    "collapsed": true,
    "urth": {
     "dashboard": {
      "hidden": true
     }
    }
   },
   "outputs": [],
   "source": [
    "%matplotlib inline"
   ]
  },
  {
   "cell_type": "markdown",
   "metadata": {
    "urth": {
     "dashboard": {}
    }
   },
   "source": [
    "# 1. Choose and load your cube"
   ]
  },
  {
   "cell_type": "markdown",
   "metadata": {
    "urth": {
     "dashboard": {
      "hidden": true
     }
    }
   },
   "source": [
    "Create cube picker consiting of a text acceptor for the file path and a multiple selection pane for the cube selector"
   ]
  },
  {
   "cell_type": "markdown",
   "metadata": {
    "urth": {
     "dashboard": {}
    }
   },
   "source": [
    "Please enter the path of your cube(s) and then select the cube or cubelist you would like to plot with."
   ]
  },
  {
   "cell_type": "code",
   "execution_count": null,
   "metadata": {
    "collapsed": false,
    "urth": {
     "dashboard": {
      "layout": {}
     }
    }
   },
   "outputs": [],
   "source": [
    "path = ipywidgets.Text(\n",
    "    description='Filepath',\n",
    "    value='/tmp',\n",
    ")\n",
    "IPython.display.display(path)"
   ]
  },
  {
   "cell_type": "code",
   "execution_count": null,
   "metadata": {
    "collapsed": false,
    "urth": {
     "dashboard": {
      "layout": {}
     }
    }
   },
   "outputs": [],
   "source": [
    "options = glob.glob('{}/*'.format(path.value)) # Can we do this in a different form, so that we can see the options \n",
    "                                               # without the file path?\n",
    "\n",
    "files = ipywidgets.SelectMultiple(\n",
    "    description='Cube(list)',\n",
    "    options=options\n",
    ")\n",
    "IPython.display.display(files)"
   ]
  },
  {
   "cell_type": "markdown",
   "metadata": {
    "urth": {
     "dashboard": {
      "hidden": true
     }
    }
   },
   "source": [
    "At this point we need to see the cube or cubelist in order to make a decision about what to do next.  For example, if we have one cube then we can move on to the next stage (choosing the plot type) whereas if we have a list of cubes then we have to choose one of those cubes to carry forward and choose the plot type for.  Then, of course, there is the possibility that a user would want to plot several cubes with the same types and settings, so maybe this stage also needs a multiple cube selector.\n",
    "\n",
    "This would be much easier with a file browser or some equivalent, which would allow the user to see what they are selecting (i.e. whether it is a folder or a file) and then have more control over the cubes they are selecting.  Then later on in the workflow, an option to plot another cube could follow.  This, however, would not allow for multiple plots and plot types with a single associated slider.\n",
    "\n",
    "Hmmm......"
   ]
  },
  {
   "cell_type": "code",
   "execution_count": null,
   "metadata": {
    "collapsed": false,
    "urth": {
     "dashboard": {
      "hidden": true
     }
    }
   },
   "outputs": [],
   "source": [
    "cubes = files.value\n",
    "\n",
    "for i in range(len(cubes)):\n",
    "    print cubes[i]\n",
    "    if cubes[i][-2:] == 'nc' or cubes[i][-2:] == 'pp': # This is currently not taking grib files into \n",
    "                                                           # account coz they are hard to identify.  Also no ff.\n",
    "        cubelist = iris.load_raw(cubes[i])\n",
    "    else:\n",
    "        print 'This is not a cube, please try another selection.'\n",
    "\n",
    "print cubelist        "
   ]
  },
  {
   "cell_type": "markdown",
   "metadata": {
    "urth": {
     "dashboard": {}
    }
   },
   "source": [
    "Select which cubes you would like to use if you have loaded a cubelist"
   ]
  },
  {
   "cell_type": "code",
   "execution_count": null,
   "metadata": {
    "collapsed": false,
    "urth": {
     "dashboard": {
      "layout": {}
     }
    }
   },
   "outputs": [],
   "source": [
    "to_plot = [cube.standard_name for cube in cubelist]\n",
    "\n",
    "plots = ipywidgets.SelectMultiple(\n",
    "description='Choose cube(s)',\n",
    "options=to_plot\n",
    ")\n",
    "\n",
    "IPython.display.display(plots)"
   ]
  },
  {
   "cell_type": "markdown",
   "metadata": {
    "urth": {
     "dashboard": {
      "hidden": true
     }
    }
   },
   "source": [
    "I feel that at this point we need a 'continue' button.  In actual fact we probably need several of these at various points in the workflow.  I am coming round to this way of thinking because at nearly every selection point, a dependency is created, so before the next set of options can be displayed, the current selection must be set in order to generate those options.\n",
    "\n",
    "If this was not the case, I can't see how this is going to work.\n",
    "\n",
    "You could offer only options which are applicable to every case, which is incredibly limited, or you could offer every single option available in every case, which would chuck out an error in many cases.  Neither of these feel ideal."
   ]
  },
  {
   "cell_type": "markdown",
   "metadata": {
    "urth": {
     "dashboard": {}
    }
   },
   "source": [
    "# 2. Choose your plot options"
   ]
  },
  {
   "cell_type": "markdown",
   "metadata": {
    "urth": {
     "dashboard": {
      "hidden": true
     }
    }
   },
   "source": [
    "Create plot-type picker"
   ]
  },
  {
   "cell_type": "code",
   "execution_count": null,
   "metadata": {
    "collapsed": true,
    "urth": {
     "dashboard": {
      "layout": {}
     }
    }
   },
   "outputs": [],
   "source": [
    "plot_type_dict = {'contour': iplt.contour, 'contourf': iplt.contourf, 'pcolor': iplt.pcolor, 'outline': iplt.outline,\n",
    "                  'pcolormesh': iplt.pcolormesh, 'plot': iplt.plot, 'points': iplt.points}\n",
    "\n",
    "plot_types = plot_type_dict.keys()\n",
    "plot_types.sort()\n",
    "\n",
    "type = ipywidgets.Dropdown(\n",
    "    options=plot_types,\n",
    "    value='contour',\n",
    "    description='Plot-type:')\n",
    "\n",
    "IPython.display.display(type)"
   ]
  },
  {
   "cell_type": "markdown",
   "metadata": {
    "urth": {
     "dashboard": {
      "hidden": true
     }
    }
   },
   "source": [
    "You will be able to use this later using:\n",
    "```python\n",
    "callable = plot_type_dict[type.value]\n",
    "callable(plots.value)\n",
    "```"
   ]
  },
  {
   "cell_type": "markdown",
   "metadata": {
    "urth": {
     "dashboard": {
      "hidden": true
     }
    }
   },
   "source": [
    "Create axis coordinate pickers for x and y axis"
   ]
  },
  {
   "cell_type": "code",
   "execution_count": null,
   "metadata": {
    "collapsed": false,
    "urth": {
     "dashboard": {
      "layout": {}
     }
    }
   },
   "outputs": [],
   "source": [
    "base_cube = iris.load_cube(files.value, plots.value[0])\n",
    "# base_cube is the first cube chosen from the list.\n",
    "# This method will work provided that all the cubes chosen have the same coordinates.\n",
    "\n",
    "coordinates = [(coord.name()) for coord in base_cube.coords()]\n",
    "# This bit adds the cube phenomenon as an axis, so you could plot, for example, surface temp against time.\n",
    "# It may be causing a problem though, albeit a very solvable one.\n",
    "for i in range(len(plots.value)):\n",
    "    coordinates.append(plots.value[i])\n",
    "\n",
    "dim_x = ipywidgets.RadioButtons(\n",
    "    description='Dimension for x:',\n",
    "    options=coordinates)\n",
    "\n",
    "IPython.display.display(dim_x)"
   ]
  },
  {
   "cell_type": "code",
   "execution_count": null,
   "metadata": {
    "collapsed": false,
    "urth": {
     "dashboard": {
      "layout": {}
     }
    }
   },
   "outputs": [],
   "source": [
    "if dim_x.value in coordinates:\n",
    "    coordinates.remove(dim_x.value)\n",
    "\n",
    "dim_y = ipywidgets.RadioButtons(\n",
    "    description='Dimension for y:',\n",
    "    options=coordinates)\n",
    "\n",
    "IPython.display.display(dim_y)"
   ]
  },
  {
   "cell_type": "code",
   "execution_count": null,
   "metadata": {
    "collapsed": false,
    "urth": {
     "dashboard": {}
    }
   },
   "outputs": [],
   "source": [
    "if dim_x.value in coordinates:\n",
    "    coordinates.remove(dim_x.value)\n",
    "if dim_y.value in coordinates:\n",
    "    coordinates.remove(dim_y.value)\n",
    "for i in range(len(plots.value)):\n",
    "    if plots.value[i] in coordinates:\n",
    "        coordinates.remove(plots.value[i])\n",
    "    \n",
    "sliders = []\n",
    "for i in range(len(coordinates)):\n",
    "    slider = ipywidgets.IntSlider(\n",
    "        value=0,\n",
    "        min=0,\n",
    "        max=len(base_cube.coord(coordinates[i]).points-1),\n",
    "        step=1,\n",
    "        description='Index of ' + coordinates[i])\n",
    "    sliders.append(slider)\n",
    "    IPython.display.display(sliders[i])\n"
   ]
  },
  {
   "cell_type": "markdown",
   "metadata": {
    "urth": {
     "dashboard": {}
    }
   },
   "source": [
    "# 3. Choose your formatting options"
   ]
  },
  {
   "cell_type": "markdown",
   "metadata": {
    "urth": {
     "dashboard": {
      "hidden": true
     }
    }
   },
   "source": [
    "Here we need to take stock of which type of plot has been chosen, and offer an appropriate set of formatting options for that plot type.  This could take a bit of work to be complete and comprehensive.\n",
    "\n",
    "A big problem that I am having is that some options can be either a boolean or a set value, or a string, or a float, etc., and the list of options is really too long to offer as a dropdown.  It might be possible to add a string entry widget to the options of a drowdown widget, but this is going to make the code very complicated; probably unnecessarily so.  This means that the input options are going to be very restricted at this stage."
   ]
  },
  {
   "cell_type": "code",
   "execution_count": null,
   "metadata": {
    "collapsed": false,
    "urth": {
     "dashboard": {}
    }
   },
   "outputs": [],
   "source": [
    "# All:\n",
    "colors = ipywidgets.Dropdown(\n",
    "    options=['None', 'blue', 'green', 'red', 'cyan', 'magenta', 'yellow', 'black', 'white'],\n",
    "    value='blue',\n",
    "    description='colors')\n",
    "cmap = ipywidgets.Dropdown(\n",
    "    options=['None', 'viridis', 'inferno', 'plasma', 'magma', 'jet', 'summer', 'autumn'],\n",
    "    value='None',\n",
    "    description='cmap')\n",
    "norm = ipywidgets.Dropdown(\n",
    "    options=['None', 'Autoscale(A)', 'Autoscale_None(A)', 'scaled()'],\n",
    "    value='None',\n",
    "    description='norm')\n",
    "levels = ipywidgets.Text(\n",
    "    description='levels',\n",
    "    value='np.linspace(np.min(cube.data), np.max(cube.data), 10)')\n",
    "origin = ipywidgets.Dropdown(\n",
    "    options=['None', 'upper', 'lower', 'image'],\n",
    "    value='None',\n",
    "    description='origin')\n",
    "extend = ipywidgets.Dropdown(\n",
    "    options=['neither', 'both', 'min', 'max'],\n",
    "    value='both',\n",
    "    description='extend')\n",
    "# Contour-only:\n",
    "linestyles = ipywidgets.Dropdown(\n",
    "    options=['None', 'solid', 'dashed', 'dashdot', 'dotted'],\n",
    "    value='None',\n",
    "    description='linestyle')\n",
    "# Plot only:\n",
    "label = ipywidgets.Text(\n",
    "    description='label',\n",
    "    value='Line Plot')\n",
    "# Plot and Points only:\n",
    "color = ipywidgets.Dropdown(\n",
    "    options=['blue', 'green', 'red', 'cyan', 'magenta', 'yellow', 'black', 'white'],\n",
    "    value='blue',\n",
    "    description='color')\n",
    "marker = ipywidgets.Dropdown(\n",
    "    options=['-', '--', '-.', ':', '.', ',', 'o', 'v', '^', '<', '>', '*', 'x'],\n",
    "    value='-',\n",
    "    description='marker')\n",
    "    \n",
    "formatting = [colors, cmap, norm, levels, origin, extend]\n",
    "    \n",
    "if type.value in ['contourf', 'outline', 'pcolor', 'pcolormesh']:\n",
    "    for i in range(len(formatting)):\n",
    "        IPython.display.display(formatting[i])\n",
    "elif type.value == 'contour':\n",
    "    formatting.append(linestyles)\n",
    "    for i in range(len(formatting)):\n",
    "        IPython.display.display(formatting[i])\n",
    "elif type.value == 'plot':\n",
    "    formatting.append(label)\n",
    "    formatting.append(color)\n",
    "    formatting.append(marker)\n",
    "    for i in range(len(formatting)):\n",
    "        IPython.display.display(formatting[i])\n",
    "elif type.value == 'points':\n",
    "    formatting.remove(colors)\n",
    "    formatting.append(color)\n",
    "    formatting.append(marker)    \n",
    "    for i in range(len(formatting)):\n",
    "        IPython.display.display(formatting[i])\n",
    "    "
   ]
  },
  {
   "cell_type": "markdown",
   "metadata": {
    "urth": {
     "dashboard": {}
    }
   },
   "source": [
    "# 4. Make your plot"
   ]
  },
  {
   "cell_type": "markdown",
   "metadata": {
    "urth": {
     "dashboard": {
      "hidden": true
     }
    }
   },
   "source": [
    "This will require a button which does all the things that make a plot when you press it."
   ]
  },
  {
   "cell_type": "code",
   "execution_count": null,
   "metadata": {
    "collapsed": false,
    "urth": {
     "dashboard": {
      "hidden": true
     }
    }
   },
   "outputs": [],
   "source": [
    "\n",
    "callable = plot_type_dict[type.value]\n",
    "\n",
    "plot_opts = {'colors':colors.value, 'cmap':cmap.value, \n",
    "                 'norm':norm.value, 'levels':eval(levels.value), 'origin':origin.value, 'extend':extend.value}\n",
    "if type.value == 'contour':\n",
    "    plot_opts['linestyles'] = linestyles.value\n",
    "elif type.value == 'plot':\n",
    "    plot_opts['label'] = label.value\n",
    "    plot_opts['color'] = color.value\n",
    "    plot_opts['marker'] = marker.value   \n",
    "elif type.value == 'points':\n",
    "    del plot_opts['colors']\n",
    "    plot_opts['color'] = color.value\n",
    "    plot_opts['marker'] = marker.value    \n",
    "\n",
    "for j in range(len(plots.value)):\n",
    "    cube = iris.load_cube(files.value, plots.value[j])\n",
    "    # Now need to work out how to put dictionary values in cube index list\n",
    "    callable(cube[], **plot_opts)\n",
    "    iplt.show()"
   ]
  },
  {
   "cell_type": "code",
   "execution_count": null,
   "metadata": {
    "collapsed": false
   },
   "outputs": [],
   "source": [
    "dim_dict = {}\n",
    "dim_list = []\n",
    "# Find dimension coordinates which are not axis coordinates, and append them to a list\n",
    "# For dimensions which are axis coordinates, put ':' in dictionary\n",
    "for coord in ([(coord.name()) for coord in cube.coords()]):\n",
    "    if cube.coord(coord) in cube.coords(dim_coords=True):\n",
    "        if coord not in [dim_x.value, dim_y.value]:\n",
    "            dim_list.append(coord)\n",
    "        else:\n",
    "            dim_dict[dim_x.value] = ':'\n",
    "            dim_dict[dim_y.value] = ':'\n",
    "\n",
    "# Extract index value of non-axis coordinates from slider list and add to dictionary\n",
    "for i in range(len(coordinates)):\n",
    "    if coordinates[i] in dim_list:\n",
    "        dim_dict[dim_list[i]] = sliders[i].value\n",
    "\n"
   ]
  },
  {
   "cell_type": "code",
   "execution_count": null,
   "metadata": {
    "collapsed": true
   },
   "outputs": [],
   "source": []
  }
 ],
 "metadata": {
  "kernelspec": {
   "display_name": "Python 2",
   "language": "python",
   "name": "python2"
  },
  "language_info": {
   "codemirror_mode": {
    "name": "ipython",
    "version": 2
   },
   "file_extension": ".py",
   "mimetype": "text/x-python",
   "name": "python",
   "nbconvert_exporter": "python",
   "pygments_lexer": "ipython2",
   "version": "2.7.11"
  },
  "urth": {
   "dashboard": {
    "layout": "report"
   }
  },
  "widgets": {
   "state": {},
   "version": "1.1.1"
  }
 },
 "nbformat": 4,
 "nbformat_minor": 0
}
