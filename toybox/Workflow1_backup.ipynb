{
 "cells": [
  {
   "cell_type": "markdown",
   "metadata": {
    "urth": {
     "dashboard": {}
    }
   },
   "source": [
    "# Workflow Example 1"
   ]
  },
  {
   "cell_type": "markdown",
   "metadata": {
    "urth": {
     "dashboard": {
      "hidden": true
     }
    }
   },
   "source": [
    "This is based on a general workflow, where multiple cubes can be chosen to plot, but with a restricted number of customization options.\n",
    "\n",
    "This is not an exhaustive list of options for a workflow, but it's a good start."
   ]
  },
  {
   "cell_type": "code",
   "execution_count": null,
   "metadata": {
    "collapsed": false,
    "urth": {
     "dashboard": {
      "hidden": true
     }
    }
   },
   "outputs": [],
   "source": [
    "import ipywidgets\n",
    "import IPython.display\n",
    "import iris\n",
    "\n",
    "import glob\n",
    "import numpy as np\n",
    "import iris.quickplot as iplt\n",
    "import matplotlib.pyplot as plt"
   ]
  },
  {
   "cell_type": "code",
   "execution_count": null,
   "metadata": {
    "collapsed": true,
    "urth": {
     "dashboard": {
      "hidden": true
     }
    }
   },
   "outputs": [],
   "source": [
    "%matplotlib inline"
   ]
  },
  {
   "cell_type": "markdown",
   "metadata": {
    "urth": {
     "dashboard": {}
    }
   },
   "source": [
    "# 1. Choose and load your cube"
   ]
  },
  {
   "cell_type": "markdown",
   "metadata": {
    "urth": {
     "dashboard": {
      "hidden": true
     }
    }
   },
   "source": [
    "Create cube picker consiting of a text acceptor for the file path and a multiple selection pane for the cube selector"
   ]
  },
  {
   "cell_type": "markdown",
   "metadata": {
    "urth": {
     "dashboard": {}
    }
   },
   "source": [
    "Please enter the path of your cube(s) and then select the cube or cubelist you would like to plot with."
   ]
  },
  {
   "cell_type": "code",
   "execution_count": null,
   "metadata": {
    "collapsed": false,
    "urth": {
     "dashboard": {
      "layout": {}
     }
    }
   },
   "outputs": [],
   "source": [
    "path = ipywidgets.Text(\n",
    "    description='Filepath',\n",
    "    value='/tmp',\n",
    ")\n",
    "IPython.display.display(path)"
   ]
  },
  {
   "cell_type": "code",
   "execution_count": null,
   "metadata": {
    "collapsed": false,
    "urth": {
     "dashboard": {
      "layout": {}
     }
    }
   },
   "outputs": [],
   "source": [
    "options = glob.glob('{}/*'.format(path.value)) # Can we do this in a different form, so that we can see the options \n",
    "                                               # without the file path?\n",
    "\n",
    "files = ipywidgets.SelectMultiple(\n",
    "    description='Cube(list)',\n",
    "    options=options\n",
    ")\n",
    "IPython.display.display(files)"
   ]
  },
  {
   "cell_type": "markdown",
   "metadata": {
    "urth": {
     "dashboard": {
      "hidden": true
     }
    }
   },
   "source": [
    "At this point we need to see the cube or cubelist in order to make a decision about what to do next.  For example, if we have one cube then we can move on to the next stage (choosing the plot type) whereas if we have a list of cubes then we have to choose one of those cubes to carry forward and choose the plot type for.  Then, of course, there is the possibility that a user would want to plot several cubes with the same types and settings, so maybe this stage also needs a multiple cube selector.\n",
    "\n",
    "This would be much easier with a file browser or some equivalent, which would allow the user to see what they are selecting (i.e. whether it is a folder or a file) and then have more control over the cubes they are selecting.  Then later on in the workflow, an option to plot another cube could follow.  This, however, would not allow for multiple plots and plot types with a single associated slider.\n",
    "\n",
    "Hmmm......"
   ]
  },
  {
   "cell_type": "code",
   "execution_count": null,
   "metadata": {
    "collapsed": false,
    "urth": {
     "dashboard": {
      "hidden": true
     }
    }
   },
   "outputs": [],
   "source": [
    "cubes = files.value\n",
    "\n",
    "for i in range(len(cubes)):\n",
    "    print cubes[i]\n",
    "    cubelist = iris.load_raw(cubes[i])\n",
    "\n",
    "print cubelist        "
   ]
  },
  {
   "cell_type": "markdown",
   "metadata": {
    "urth": {
     "dashboard": {}
    }
   },
   "source": [
    "Select which cubes you would like to use if you have loaded a cubelist"
   ]
  },
  {
   "cell_type": "code",
   "execution_count": null,
   "metadata": {
    "collapsed": false,
    "urth": {
     "dashboard": {
      "layout": {}
     }
    }
   },
   "outputs": [],
   "source": [
    "to_plot = [cube.standard_name for cube in cubelist]\n",
    "\n",
    "plots = ipywidgets.SelectMultiple(\n",
    "description='Choose cube(s)',\n",
    "options=to_plot\n",
    ")\n",
    "\n",
    "IPython.display.display(plots)"
   ]
  },
  {
   "cell_type": "markdown",
   "metadata": {
    "urth": {
     "dashboard": {
      "hidden": true
     }
    }
   },
   "source": [
    "I feel that at this point we need a 'continue' button.  In actual fact we probably need several of these at various points in the workflow.  I am coming round to this way of thinking because at nearly every selection point, a dependency is created, so before the next set of options can be displayed, the current selection must be set in order to generate those options.\n",
    "\n",
    "If this was not the case, I can't see how this is going to work.\n",
    "\n",
    "You could offer only options which are applicable to every case, which is incredibly limited, or you could offer every single option available in every case, which would chuck out an error in many cases.  Neither of these feel ideal."
   ]
  },
  {
   "cell_type": "markdown",
   "metadata": {
    "urth": {
     "dashboard": {}
    }
   },
   "source": [
    "# 2. Choose your plot options"
   ]
  },
  {
   "cell_type": "markdown",
   "metadata": {
    "urth": {
     "dashboard": {
      "hidden": true
     }
    }
   },
   "source": [
    "Create plot-type picker"
   ]
  },
  {
   "cell_type": "code",
   "execution_count": null,
   "metadata": {
    "collapsed": true,
    "urth": {
     "dashboard": {
      "layout": {}
     }
    }
   },
   "outputs": [],
   "source": [
    "plot_type_dict = {'contour': iplt.contour, 'contourf': iplt.contourf, 'pcolor': iplt.pcolor, 'outline': iplt.outline,\n",
    "                  'pcolormesh': iplt.pcolormesh, 'plot': iplt.plot, 'points': iplt.points}\n",
    "\n",
    "plot_types = plot_type_dict.keys()\n",
    "plot_types.sort()\n",
    "\n",
    "type = ipywidgets.Dropdown(\n",
    "    options=plot_types,\n",
    "    value='contour',\n",
    "    description='Plot-type:')\n",
    "\n",
    "IPython.display.display(type)"
   ]
  },
  {
   "cell_type": "markdown",
   "metadata": {
    "urth": {
     "dashboard": {
      "hidden": true
     }
    }
   },
   "source": [
    "You will be able to use this later using:\n",
    "```python\n",
    "callable = plot_type_dict[type.value]\n",
    "callable(plots.value)\n",
    "```"
   ]
  },
  {
   "cell_type": "markdown",
   "metadata": {
    "urth": {
     "dashboard": {
      "hidden": true
     }
    }
   },
   "source": [
    "Create axis coordinate pickers for x and y axis"
   ]
  },
  {
   "cell_type": "code",
   "execution_count": null,
   "metadata": {
    "collapsed": false,
    "urth": {
     "dashboard": {
      "layout": {}
     }
    }
   },
   "outputs": [],
   "source": [
    "base_cube = iris.load_cube(files.value, plots.value[0])\n",
    "# base_cube is the first cube chosen from the list.\n",
    "# This method will work provided that all the cubes chosen have the same coordinates.\n",
    "\n",
    "coordinates = [(coord.name()) for coord in base_cube.coords()]\n",
    "# This bit adds the cube phenomenon as an axis, so you could plot, for example, surface temp against time.\n",
    "# It may be causing a problem though, albeit a very solvable one.\n",
    "for i in range(len(plots.value)):\n",
    "    coordinates.append(plots.value[i])\n",
    "\n",
    "dim_x = ipywidgets.RadioButtons(\n",
    "    description='Dimension for x:',\n",
    "    options=coordinates)\n",
    "\n",
    "IPython.display.display(dim_x)"
   ]
  },
  {
   "cell_type": "code",
   "execution_count": null,
   "metadata": {
    "collapsed": false,
    "urth": {
     "dashboard": {
      "layout": {}
     }
    }
   },
   "outputs": [],
   "source": [
    "if dim_x.value in coordinates:\n",
    "    coordinates.remove(dim_x.value)\n",
    "\n",
    "dim_y = ipywidgets.RadioButtons(\n",
    "    description='Dimension for y:',\n",
    "    options=coordinates)\n",
    "\n",
    "IPython.display.display(dim_y)"
   ]
  },
  {
   "cell_type": "code",
   "execution_count": null,
   "metadata": {
    "collapsed": false,
    "urth": {
     "dashboard": {
      "hidden": true
     }
    }
   },
   "outputs": [],
   "source": [
    "if dim_x.value in coordinates:\n",
    "    coordinates.remove(dim_x.value)\n",
    "if dim_y.value in coordinates:\n",
    "    coordinates.remove(dim_y.value)\n",
    "for i in range(len(plots.value)):\n",
    "    if plots.value[i] in coordinates:\n",
    "        coordinates.remove(plots.value[i])\n",
    "    \n",
    "sliders = []\n",
    "for i in range(len(coordinates)):\n",
    "    slider = ipywidgets.IntSlider(\n",
    "        value=0,\n",
    "        min=0,\n",
    "        max=len(base_cube.coord(coordinates[i]).points-1),\n",
    "        step=1,\n",
    "        description='Index of ' + coordinates[i])\n",
    "    sliders.append(slider)\n",
    "    IPython.display.display(sliders[i])\n"
   ]
  },
  {
   "cell_type": "markdown",
   "metadata": {
    "urth": {
     "dashboard": {}
    }
   },
   "source": [
    "# 3. Choose your formatting options"
   ]
  },
  {
   "cell_type": "markdown",
   "metadata": {
    "urth": {
     "dashboard": {
      "hidden": true
     }
    }
   },
   "source": [
    "Here we need to take stock of which type of plot has been chosen, and offer an appropriate set of formatting options for that plot type.  This could take a bit of work to be complete and comprehensive.\n",
    "\n",
    "A big problem that I am having is that some options can be either a boolean or a set value, or a string, or a float, etc., and the list of options is really too long to offer as a dropdown.  It might be possible to add a string entry widget to the options of a drowdown widget, but this is going to make the code very complicated; probably unnecessarily so.  This means that the input options are going to be very restricted at this stage."
   ]
  },
  {
   "cell_type": "code",
   "execution_count": null,
   "metadata": {
    "collapsed": false,
    "urth": {
     "dashboard": {
      "layout": {}
     }
    }
   },
   "outputs": [],
   "source": [
    "# All:\n",
    "colors = ipywidgets.Dropdown(\n",
    "    options=['None', 'blue', 'green', 'red', 'cyan', 'magenta', 'yellow', 'black', 'white'],\n",
    "    value='blue',\n",
    "    description='colors')\n",
    "cmap = ipywidgets.Dropdown(\n",
    "    options=['None', 'viridis', 'inferno', 'plasma', 'magma', 'jet', 'summer', 'autumn'],\n",
    "    value='None',\n",
    "    description='cmap')\n",
    "norm = ipywidgets.Dropdown(\n",
    "    options=['None', 'Autoscale(A)', 'Autoscale_None(A)', 'scaled()'],\n",
    "    value='None',\n",
    "    description='norm')\n",
    "levels = ipywidgets.Text(\n",
    "    description='levels',\n",
    "    value='np.linspace(np.min(cube.data), np.max(cube.data), 10)')\n",
    "origin = ipywidgets.Dropdown(\n",
    "    options=['None', 'upper', 'lower', 'image'],\n",
    "    value='None',\n",
    "    description='origin')\n",
    "extend = ipywidgets.Dropdown(\n",
    "    options=['neither', 'both', 'min', 'max'],\n",
    "    value='both',\n",
    "    description='extend')\n",
    "# Contour-only:\n",
    "linestyles = ipywidgets.Dropdown(\n",
    "    options=['None', 'solid', 'dashed', 'dashdot', 'dotted'],\n",
    "    value='None',\n",
    "    description='linestyle')\n",
    "# Plot only:\n",
    "label = ipywidgets.Text(\n",
    "    description='label',\n",
    "    value='Line Plot')\n",
    "# Plot and Points only:\n",
    "color = ipywidgets.Dropdown(\n",
    "    options=['blue', 'green', 'red', 'cyan', 'magenta', 'yellow', 'black', 'white'],\n",
    "    value='blue',\n",
    "    description='color')\n",
    "marker = ipywidgets.Dropdown(\n",
    "    options=['-', '--', '-.', ':', '.', ',', 'o', 'v', '^', '<', '>', '*', 'x'],\n",
    "    value='-',\n",
    "    description='marker')\n",
    "    \n",
    "formatting = [colors, cmap, norm, levels, origin, extend]\n",
    "    \n",
    "if type.value in ['contourf', 'outline', 'pcolor', 'pcolormesh']:\n",
    "    for i in range(len(formatting)):\n",
    "        IPython.display.display(formatting[i])\n",
    "elif type.value == 'contour':\n",
    "    formatting.append(linestyles)\n",
    "    for i in range(len(formatting)):\n",
    "        IPython.display.display(formatting[i])\n",
    "elif type.value == 'plot':\n",
    "    formatting.append(label)\n",
    "    formatting.append(color)\n",
    "    formatting.append(marker)\n",
    "    for i in range(len(formatting)):\n",
    "        IPython.display.display(formatting[i])\n",
    "elif type.value == 'points':\n",
    "    formatting.remove(colors)\n",
    "    formatting.append(color)\n",
    "    formatting.append(marker)    \n",
    "    for i in range(len(formatting)):\n",
    "        IPython.display.display(formatting[i])\n",
    "    "
   ]
  },
  {
   "cell_type": "markdown",
   "metadata": {
    "urth": {
     "dashboard": {}
    }
   },
   "source": [
    "# 4. Make your plot"
   ]
  },
  {
   "cell_type": "markdown",
   "metadata": {
    "urth": {
     "dashboard": {
      "hidden": true
     }
    }
   },
   "source": [
    "This will require a button which does all the things that make a plot when you press it."
   ]
  },
  {
   "cell_type": "code",
   "execution_count": null,
   "metadata": {
    "collapsed": false,
    "urth": {
     "dashboard": {
      "hidden": true
     }
    }
   },
   "outputs": [],
   "source": [
    "\n",
    "callable = plot_type_dict[type.value]\n",
    "\n",
    "plot_opts = {'colors':colors.value, 'cmap':cmap.value, \n",
    "                 'norm':norm.value, 'levels':eval(levels.value), 'origin':origin.value, 'extend':extend.value}\n",
    "if type.value == 'contour':\n",
    "    plot_opts['linestyles'] = linestyles.value\n",
    "elif type.value == 'plot':\n",
    "    plot_opts['label'] = label.value\n",
    "    plot_opts['color'] = color.value\n",
    "    plot_opts['marker'] = marker.value   \n",
    "elif type.value == 'points':\n",
    "    del plot_opts['colors']\n",
    "    plot_opts['color'] = color.value\n",
    "    plot_opts['marker'] = marker.value    \n",
    "\n",
    "for j in range(len(plots.value)):\n",
    "    cube = iris.load_cube(files.value, plots.value[j])\n",
    "    # Now need to work out how to put dictionary values in cube index list\n",
    "    callable(cube[], **plot_opts)\n",
    "    iplt.show()"
   ]
  },
  {
   "cell_type": "code",
   "execution_count": null,
   "metadata": {
    "collapsed": false,
    "urth": {
     "dashboard": {
      "hidden": true
     }
    }
   },
   "outputs": [],
   "source": [
    "dim_dict = {}\n",
    "dim_list = []\n",
    "# Find dimension coordinates which are not axis coordinates, and append them to a list\n",
    "# For dimensions which are axis coordinates, put ':' in dictionary\n",
    "for coord in ([(coord.name()) for coord in cube.coords()]):\n",
    "    if cube.coord(coord) in cube.coords(dim_coords=True):\n",
    "        if coord not in [dim_x.value, dim_y.value]:\n",
    "            dim_list.append(coord)\n",
    "        else:\n",
    "            dim_dict[dim_x.value] = ':'\n",
    "            dim_dict[dim_y.value] = ':'\n",
    "\n",
    "# Extract index value of non-axis coordinates from slider list and add to dictionary\n",
    "for i in range(len(coordinates)):\n",
    "    if coordinates[i] in dim_list:\n",
    "        dim_dict[dim_list[i]] = sliders[i].value\n",
    "\n"
   ]
  },
  {
   "cell_type": "code",
   "execution_count": null,
   "metadata": {
    "collapsed": true,
    "urth": {
     "dashboard": {
      "hidden": true
     }
    }
   },
   "outputs": [],
   "source": []
  }
 ],
 "metadata": {
  "kernelspec": {
   "display_name": "Python 2",
   "language": "python",
   "name": "python2"
  },
  "language_info": {
   "codemirror_mode": {
    "name": "ipython",
    "version": 2
   },
   "file_extension": ".py",
   "mimetype": "text/x-python",
   "name": "python",
   "nbconvert_exporter": "python",
   "pygments_lexer": "ipython2",
   "version": "2.7.11"
  },
  "urth": {
   "dashboard": {
    "layout": "report"
   }
  },
  "widgets": {
   "state": {
    "0002c1f32c8b4f04a5234b2889804542": {
     "views": [
      {
       "cell_index": 21
      }
     ]
    },
    "0133a4c815e24822918ab75ae3c3b051": {
     "views": []
    },
    "037d02843b2f4da3a12cbf6cff6d8ca9": {
     "views": []
    },
    "063a2513cc794ea883fae6c0e9c7add9": {
     "views": [
      {
       "cell_index": 16
      }
     ]
    },
    "0b0945f8178a413d9fb4976b43f15e97": {
     "views": []
    },
    "0beb769a791b47abb9f660a7e5412fd8": {
     "views": [
      {
       "cell_index": 12
      }
     ]
    },
    "0d5e19b26ee34d4dbfbe783a501bd43e": {
     "views": []
    },
    "15c512f5aad04229b150cc7cc5647d1e": {
     "views": []
    },
    "15d8bba583a04a38bc704e2590136bbc": {
     "views": [
      {
       "cell_index": 21
      }
     ]
    },
    "172fc4c5ba584e64bf910e1897b31c90": {
     "views": [
      {
       "cell_index": 24
      }
     ]
    },
    "18029cd8949f4b1ab3dd3064d3de184f": {
     "views": []
    },
    "21b03ddd38a645ebbf7c05df82a31bd2": {
     "views": []
    },
    "288fec2ef89e4552a8d800b5d4ea29f2": {
     "views": [
      {
       "cell_index": 24
      }
     ]
    },
    "28f5ba9e7c26425b997f6d9829f2b83c": {
     "views": [
      {
       "cell_index": 24
      }
     ]
    },
    "299b28f802f247c4b50e8009a38d47ac": {
     "views": []
    },
    "29fb149c503b405b86ce7d889674a9f1": {
     "views": [
      {
       "cell_index": 20
      }
     ]
    },
    "3c621110376041309b7eb2ae4af2bfe9": {
     "views": []
    },
    "3d6306f4962e4ec58d13f8ecbbf5d9c5": {
     "views": []
    },
    "43c3b7fe5cac482a85d26b6e2e64a721": {
     "views": []
    },
    "44322067797c4f3f839bb9ec2cb68453": {
     "views": []
    },
    "44fac61abc894424a1b63249629a43d7": {
     "views": []
    },
    "4513018d0bac494997b5ad4b1420fe01": {
     "views": [
      {
       "cell_index": 24
      }
     ]
    },
    "472154d15ca74fc3a5a0ef381578736c": {
     "views": []
    },
    "473287c9a0aa45afb590d1a5af844df6": {
     "views": []
    },
    "48a52ebb28b9435984017048315f2116": {
     "views": [
      {
       "cell_index": 7
      }
     ]
    },
    "498c7d1c2cce470497f05ca47b42ac28": {
     "views": []
    },
    "4b2aa5d8c5eb45eb89dcd19933aa1ba1": {
     "views": []
    },
    "4c5af64e426f4d74b3c942303836208b": {
     "views": [
      {
       "cell_index": 21
      }
     ]
    },
    "5dd23f4d90734f39a8d5faad18808502": {
     "views": [
      {
       "cell_index": 24
      }
     ]
    },
    "6608b7d0b5ce470c940306713bb40cf3": {
     "views": []
    },
    "6e0f49d5bb4b42c798dbf2115c1e73a5": {
     "views": []
    },
    "7a5522b04f424a0fb140a4d86c99b544": {
     "views": []
    },
    "7bd6b0ba32a2420c9d4c4c5f41277fb7": {
     "views": []
    },
    "81494d36c4f6482ea228a9bf865ad8c4": {
     "views": []
    },
    "8778f90623704a4b963b36a6dd469ff1": {
     "views": []
    },
    "8846609d3ea74168bc56f8f1fc66bfb0": {
     "views": []
    },
    "894f5366d76043c7b91250ee26dcd114": {
     "views": []
    },
    "89d4ae7855494956a4f2db69d9b00e02": {
     "views": []
    },
    "9208ac6a54904c909ccf3326591bd664": {
     "views": [
      {
       "cell_index": 24
      }
     ]
    },
    "924f3e562d08442fb256b08ececbf2c8": {
     "views": []
    },
    "a3085f078f1c498e9283fd5cf29f3646": {
     "views": [
      {
       "cell_index": 24
      }
     ]
    },
    "a953128bdee040e2a9d4da5a147b6301": {
     "views": []
    },
    "aa541009d3c3406882ba139bee339e8c": {
     "views": [
      {
       "cell_index": 24
      }
     ]
    },
    "b2cfb0c54e2b40be830a215cfb467217": {
     "views": [
      {
       "cell_index": 21
      }
     ]
    },
    "b3c321b3c63f48b7ad4a090c0b29342e": {
     "views": []
    },
    "b4f42944ed424ede864499c6ebe3509f": {
     "views": []
    },
    "b61e995358684cdfbb0037b10399f9b5": {
     "views": []
    },
    "b667c003d81f407d89051f5d2f60c81f": {
     "views": []
    },
    "bb1c7885185247d48ce0f8b5c25a3340": {
     "views": [
      {
       "cell_index": 21
      }
     ]
    },
    "c1dc3da6f65e4d8b8b8c3a80eec0e28a": {
     "views": []
    },
    "c3e2b2be535e44f395fc62069d7a7247": {
     "views": []
    },
    "c425e95765484e6cacb2f24777996363": {
     "views": []
    },
    "cacccae54da74fe8b8e543c9d524528f": {
     "views": [
      {
       "cell_index": 8
      }
     ]
    },
    "cf1bba479d284a1c9a79e7263332265d": {
     "views": [
      {
       "cell_index": 21
      }
     ]
    },
    "d4a245a74dac45f4a47053156d107142": {
     "views": []
    },
    "da6ce9ff2c594a2e8ec0e52c36f29e36": {
     "views": []
    },
    "dde72f07d6464db0bef3a237502c8276": {
     "views": [
      {
       "cell_index": 24
      }
     ]
    },
    "e0e5cb22df214eb39d01c4ca0f47d1e1": {
     "views": []
    },
    "e321582ca4244eb2b1c891b2f0e4aa59": {
     "views": []
    },
    "e364b1bd3f9a4b469379a1ffb137186b": {
     "views": [
      {
       "cell_index": 19
      }
     ]
    },
    "e66e394d5602420e86ad9d7aeddf7bb0": {
     "views": []
    },
    "f07b540c9f8d4140acd5aa3374afe1c2": {
     "views": [
      {
       "cell_index": 24
      }
     ]
    },
    "f17c52422a0e4326bebf306a5ca38e0c": {
     "views": []
    },
    "f2db813c0cef4bcabc544aebbe1fbc89": {
     "views": []
    }
   },
   "version": "1.1.1"
  }
 },
 "nbformat": 4,
 "nbformat_minor": 0
}
