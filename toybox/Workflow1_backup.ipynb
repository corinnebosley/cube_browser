{
 "cells": [
  {
   "cell_type": "markdown",
   "metadata": {
    "urth": {
     "dashboard": {}
    }
   },
   "source": [
    "# Workflow Example 1"
   ]
  },
  {
   "cell_type": "markdown",
   "metadata": {
    "urth": {
     "dashboard": {
      "hidden": true
     }
    }
   },
   "source": [
    "This is based on a simple workflow, where only one cube is chosen with one dimension to plot over and a restricted number of customization options.\n",
    "\n",
    "This is not a typical workflow, but it's a good start."
   ]
  },
  {
   "cell_type": "code",
   "execution_count": 1,
   "metadata": {
    "collapsed": false,
    "urth": {
     "dashboard": {
      "hidden": true
     }
    }
   },
   "outputs": [
    {
     "name": "stderr",
     "output_type": "stream",
     "text": [
      "/data/local/cbosley/mc/c/envs/cubebrowser/lib/python2.7/site-packages/matplotlib/font_manager.py:273: UserWarning: Matplotlib is building the font cache using fc-list. This may take a moment.\n",
      "  warnings.warn('Matplotlib is building the font cache using fc-list. This may take a moment.')\n"
     ]
    }
   ],
   "source": [
    "import ipywidgets\n",
    "import IPython.display\n",
    "import iris\n",
    "\n",
    "import glob\n",
    "import numpy as np\n",
    "import iris.quickplot as iplt\n",
    "import matplotlib.pyplot as plt"
   ]
  },
  {
   "cell_type": "code",
   "execution_count": 2,
   "metadata": {
    "collapsed": true,
    "urth": {
     "dashboard": {
      "hidden": true
     }
    }
   },
   "outputs": [],
   "source": [
    "%matplotlib inline"
   ]
  },
  {
   "cell_type": "markdown",
   "metadata": {
    "urth": {
     "dashboard": {}
    }
   },
   "source": [
    "# 1. Choose and load your cube"
   ]
  },
  {
   "cell_type": "markdown",
   "metadata": {
    "urth": {
     "dashboard": {
      "hidden": true
     }
    }
   },
   "source": [
    "Create cube picker consiting of a text acceptor for the file path and a multiple selection pane for the cube selector"
   ]
  },
  {
   "cell_type": "markdown",
   "metadata": {
    "urth": {
     "dashboard": {}
    }
   },
   "source": [
    "Please enter the path of your cube(s) and then select the cube or cubelist you would like to plot with."
   ]
  },
  {
   "cell_type": "code",
   "execution_count": 3,
   "metadata": {
    "collapsed": false,
    "urth": {
     "dashboard": {
      "layout": {}
     }
    }
   },
   "outputs": [],
   "source": [
    "path = ipywidgets.Text(\n",
    "    description='Filepath',\n",
    "    value='/tmp',\n",
    ")\n",
    "IPython.display.display(path)"
   ]
  },
  {
   "cell_type": "code",
   "execution_count": 4,
   "metadata": {
    "collapsed": false,
    "urth": {
     "dashboard": {
      "layout": {}
     }
    }
   },
   "outputs": [],
   "source": [
    "options = glob.glob('{}/*'.format(path.value)) # Can we do this in a different form, so that we can see the options \n",
    "                                               # without the file path?\n",
    "\n",
    "files = ipywidgets.SelectMultiple(\n",
    "    description='Cube(list)',\n",
    "    options=options\n",
    ")\n",
    "IPython.display.display(files)"
   ]
  },
  {
   "cell_type": "markdown",
   "metadata": {
    "urth": {
     "dashboard": {
      "hidden": true
     }
    }
   },
   "source": [
    "At this point we need to see the cube or cubelist in order to make a decision about what to do next.  For example, if we have one cube then we can move on to the next stage (choosing the plot type) whereas if we have a list of cubes then we have to choose one of those cubes to carry forward and choose the plot type for.  Then, of course, there is the possibility that a user would want to plot several cubes with the same types and settings, so maybe this stage also needs a multiple cube selector.\n",
    "\n",
    "This would be much easier with a file browser or some equivalent, which would allow the user to see what they are selecting (i.e. whether it is a folder or a file) and then have more control over the cubes they are selecting.  Then later on in the workflow, an option to plot another cube could follow.  This, however, would not allow for multiple plots and plot types with a single associated slider.\n",
    "\n",
    "Hmmm......"
   ]
  },
  {
   "cell_type": "code",
   "execution_count": 86,
   "metadata": {
    "collapsed": false,
    "urth": {
     "dashboard": {
      "hidden": true
     }
    }
   },
   "outputs": [
    {
     "name": "stdout",
     "output_type": "stream",
     "text": [
      "../../iris-sample-data/sample_data/hybrid_height.nc\n",
      "0: air_potential_temperature / (K)     (model_level_number: 15; grid_latitude: 100; grid_longitude: 100)\n"
     ]
    }
   ],
   "source": [
    "cubes = files.value\n",
    "\n",
    "for i in range(len(cubes)):\n",
    "    print cubes[i]\n",
    "    if cubes[i][-2:] == 'nc' or cubes[i][-2:] == 'pp': # This is currently not taking grib files into \n",
    "                                                           # account coz they are hard to identify.  Also no ff.\n",
    "        cubelist = iris.load_raw(cubes[i])\n",
    "    else:\n",
    "        print 'This is not a cube, please try another selection.'\n",
    "\n",
    "print cubelist        "
   ]
  },
  {
   "cell_type": "markdown",
   "metadata": {
    "urth": {
     "dashboard": {}
    }
   },
   "source": [
    "Select which cubes you would like to use if you have loaded a cubelist"
   ]
  },
  {
   "cell_type": "code",
   "execution_count": 87,
   "metadata": {
    "collapsed": false,
    "urth": {
     "dashboard": {
      "layout": {}
     }
    }
   },
   "outputs": [],
   "source": [
    "to_plot = [cube.standard_name for cube in cubelist]\n",
    "\n",
    "plots = ipywidgets.SelectMultiple(\n",
    "description='Choose cube(s)',\n",
    "options=to_plot\n",
    ")\n",
    "\n",
    "IPython.display.display(plots)"
   ]
  },
  {
   "cell_type": "markdown",
   "metadata": {
    "urth": {
     "dashboard": {
      "hidden": true
     }
    }
   },
   "source": [
    "I feel that at this point we need a 'continue' button.  In actual fact we probably need several of these at various points in the workflow.  I am coming round to this way of thinking because at nearly every selection point, a dependency is created, so before the next set of options can be displayed, the current selection must be set in order to generate those options.\n",
    "\n",
    "If this was not the case, I can't see how this is going to work.\n",
    "\n",
    "You could offer only options which are applicable to every case, which is incredibly limited, or you could offer every single option available in every case, which would chuck out an error in many cases.  Neither of these feel ideal."
   ]
  },
  {
   "cell_type": "markdown",
   "metadata": {
    "urth": {
     "dashboard": {}
    }
   },
   "source": [
    "# 2. Choose your plot options"
   ]
  },
  {
   "cell_type": "markdown",
   "metadata": {
    "urth": {
     "dashboard": {
      "hidden": true
     }
    }
   },
   "source": [
    "Create plot-type picker"
   ]
  },
  {
   "cell_type": "code",
   "execution_count": 88,
   "metadata": {
    "collapsed": true,
    "urth": {
     "dashboard": {
      "layout": {}
     }
    }
   },
   "outputs": [],
   "source": [
    "plot_type_dict = {'contour': iplt.contour, 'contourf': iplt.contourf, 'pcolor': iplt.pcolor, 'outline': iplt.outline,\n",
    "                  'pcolormesh': iplt.pcolormesh, 'plot': iplt.plot, 'points': iplt.points}\n",
    "\n",
    "plot_types = plot_type_dict.keys()\n",
    "plot_types.sort()\n",
    "\n",
    "type = ipywidgets.Dropdown(\n",
    "    options=plot_types,\n",
    "    value='contour',\n",
    "    description='Plot-type:')\n",
    "\n",
    "IPython.display.display(type)"
   ]
  },
  {
   "cell_type": "markdown",
   "metadata": {
    "urth": {
     "dashboard": {
      "hidden": true
     }
    }
   },
   "source": [
    "You will be able to use this later using:\n",
    "```python\n",
    "callable = plot_type_dict[type.value]\n",
    "callable(plots.value)\n",
    "```"
   ]
  },
  {
   "cell_type": "markdown",
   "metadata": {
    "urth": {
     "dashboard": {
      "hidden": true
     }
    }
   },
   "source": [
    "Create axis coordinate pickers for x and y axis"
   ]
  },
  {
   "cell_type": "code",
   "execution_count": 89,
   "metadata": {
    "collapsed": false,
    "urth": {
     "dashboard": {
      "layout": {}
     }
    }
   },
   "outputs": [],
   "source": [
    "base_cube = iris.load_cube(files.value, plots.value[0])\n",
    "# base_cube is the first cube chosen from the list.\n",
    "# This method will work provided that all the cubes chosen have the same coordinates.\n",
    "\n",
    "coordinates = [(coord.name()) for coord in base_cube.coords()]\n",
    "# This bit adds the cube phenomenon as an axis, so you could plot, for example, surface temp against time.\n",
    "# It may be causing a problem though, albeit a very solvable one.\n",
    "for i in range(len(plots.value)):\n",
    "    coordinates.append(plots.value[i])\n",
    "\n",
    "dim_x = ipywidgets.RadioButtons(\n",
    "    description='Dimension for x:',\n",
    "    options=coordinates)\n",
    "\n",
    "IPython.display.display(dim_x)"
   ]
  },
  {
   "cell_type": "code",
   "execution_count": 90,
   "metadata": {
    "collapsed": false,
    "urth": {
     "dashboard": {
      "layout": {}
     }
    }
   },
   "outputs": [],
   "source": [
    "if dim_x.value in coordinates:\n",
    "    coordinates.remove(dim_x.value)\n",
    "\n",
    "dim_y = ipywidgets.RadioButtons(\n",
    "    description='Dimension for y:',\n",
    "    options=coordinates)\n",
    "\n",
    "IPython.display.display(dim_y)"
   ]
  },
  {
   "cell_type": "code",
   "execution_count": 94,
   "metadata": {
    "collapsed": false,
    "urth": {
     "dashboard": {}
    }
   },
   "outputs": [],
   "source": [
    "if dim_x.value in coordinates:\n",
    "    coordinates.remove(dim_x.value)\n",
    "if dim_y.value in coordinates:\n",
    "    coordinates.remove(dim_y.value)\n",
    "for i in range(len(plots.value)):\n",
    "    if plots.value[i] in coordinates:\n",
    "        coordinates.remove(plots.value[i])\n",
    "    \n",
    "sliders = []\n",
    "for i in range(len(coordinates)):\n",
    "    slider = ipywidgets.IntSlider(\n",
    "        value=0,\n",
    "        min=0,\n",
    "        max=len(base_cube.coord(coordinates[i]).points-1),\n",
    "        step=1,\n",
    "        description='Index of ' + coordinates[i])\n",
    "    sliders.append(slider)\n",
    "    IPython.display.display(sliders[i])\n"
   ]
  },
  {
   "cell_type": "markdown",
   "metadata": {
    "urth": {
     "dashboard": {}
    }
   },
   "source": [
    "# 3. Choose your formatting options"
   ]
  },
  {
   "cell_type": "markdown",
   "metadata": {
    "urth": {
     "dashboard": {
      "hidden": true
     }
    }
   },
   "source": [
    "Here we need to take stock of which type of plot has been chosen, and offer an appropriate set of formatting options for that plot type.  This could take a bit of work to be complete and comprehensive.\n",
    "\n",
    "A big problem that I am having is that some options can be either a boolean or a set value, or a string, or a float, etc., and the list of options is really too long to offer as a dropdown.  It might be possible to add a string entry widget to the options of a drowdown widget, but this is going to make the code very complicated; probably unnecessarily so.  This means that the input options are going to be very restricted at this stage."
   ]
  },
  {
   "cell_type": "code",
   "execution_count": 92,
   "metadata": {
    "collapsed": false,
    "urth": {
     "dashboard": {}
    }
   },
   "outputs": [],
   "source": [
    "# All:\n",
    "colors = ipywidgets.Dropdown(\n",
    "    options=['None', 'blue', 'green', 'red', 'cyan', 'magenta', 'yellow', 'black', 'white'],\n",
    "    value='blue',\n",
    "    description='colors')\n",
    "cmap = ipywidgets.Dropdown(\n",
    "    options=['None', 'viridis', 'inferno', 'plasma', 'magma', 'jet', 'summer', 'autumn'],\n",
    "    value='None',\n",
    "    description='cmap')\n",
    "norm = ipywidgets.Dropdown(\n",
    "    options=['None', 'Autoscale(A)', 'Autoscale_None(A)', 'scaled()'],\n",
    "    value='None',\n",
    "    description='norm')\n",
    "levels = ipywidgets.Text(\n",
    "    description='levels',\n",
    "    value='np.linspace(np.min(cube.data), np.max(cube.data), 10)')\n",
    "origin = ipywidgets.Dropdown(\n",
    "    options=['None', 'upper', 'lower', 'image'],\n",
    "    value='None',\n",
    "    description='origin')\n",
    "extend = ipywidgets.Dropdown(\n",
    "    options=['neither', 'both', 'min', 'max'],\n",
    "    value='both',\n",
    "    description='extend')\n",
    "# Contour-only:\n",
    "linestyles = ipywidgets.Dropdown(\n",
    "    options=['None', 'solid', 'dashed', 'dashdot', 'dotted'],\n",
    "    value='None',\n",
    "    description='linestyle')\n",
    "# Plot only:\n",
    "label = ipywidgets.Text(\n",
    "    description='label',\n",
    "    value='Line Plot')\n",
    "# Plot and Points only:\n",
    "color = ipywidgets.Dropdown(\n",
    "    options=['blue', 'green', 'red', 'cyan', 'magenta', 'yellow', 'black', 'white'],\n",
    "    value='blue',\n",
    "    description='color')\n",
    "marker = ipywidgets.Dropdown(\n",
    "    options=['-', '--', '-.', ':', '.', ',', 'o', 'v', '^', '<', '>', '*', 'x'],\n",
    "    value='-',\n",
    "    description='marker')\n",
    "    \n",
    "formatting = [colors, cmap, norm, levels, origin, extend]\n",
    "    \n",
    "if type.value in ['contourf', 'outline', 'pcolor', 'pcolormesh']:\n",
    "    for i in range(len(formatting)):\n",
    "        IPython.display.display(formatting[i])\n",
    "elif type.value == 'contour':\n",
    "    formatting.append(linestyles)\n",
    "    for i in range(len(formatting)):\n",
    "        IPython.display.display(formatting[i])\n",
    "elif type.value == 'plot':\n",
    "    formatting.append(label)\n",
    "    formatting.append(color)\n",
    "    formatting.append(marker)\n",
    "    for i in range(len(formatting)):\n",
    "        IPython.display.display(formatting[i])\n",
    "elif type.value == 'points':\n",
    "    formatting.remove(colors)\n",
    "    formatting.append(color)\n",
    "    formatting.append(marker)    \n",
    "    for i in range(len(formatting)):\n",
    "        IPython.display.display(formatting[i])\n",
    "    "
   ]
  },
  {
   "cell_type": "markdown",
   "metadata": {
    "urth": {
     "dashboard": {}
    }
   },
   "source": [
    "# 4. Make your plot"
   ]
  },
  {
   "cell_type": "markdown",
   "metadata": {
    "urth": {
     "dashboard": {
      "hidden": true
     }
    }
   },
   "source": [
    "This will require a button which does all the things that make a plot when you press it."
   ]
  },
  {
   "cell_type": "code",
   "execution_count": 110,
   "metadata": {
    "collapsed": false,
    "urth": {
     "dashboard": {
      "hidden": true
     }
    }
   },
   "outputs": [
    {
     "ename": "SyntaxError",
     "evalue": "invalid syntax (<ipython-input-110-1f4f194ba28e>, line 37)",
     "output_type": "error",
     "traceback": [
      "\u001b[1;36m  File \u001b[1;32m\"<ipython-input-110-1f4f194ba28e>\"\u001b[1;36m, line \u001b[1;32m37\u001b[0m\n\u001b[1;33m    callable(cube[(ind) for ind in dim_list], **plot_opts)\u001b[0m\n\u001b[1;37m                          ^\u001b[0m\n\u001b[1;31mSyntaxError\u001b[0m\u001b[1;31m:\u001b[0m invalid syntax\n"
     ]
    }
   ],
   "source": [
    "\n",
    "callable = plot_type_dict[type.value]\n",
    "\n",
    "plot_opts = {'colors':colors.value, 'cmap':cmap.value, \n",
    "                 'norm':norm.value, 'levels':eval(levels.value), 'origin':origin.value, 'extend':extend.value}\n",
    "if type.value == 'contour':\n",
    "    plot_opts['linestyles'] = linestyles.value\n",
    "elif type.value == 'plot':\n",
    "    plot_opts['label'] = label.value\n",
    "    plot_opts['color'] = color.value\n",
    "    plot_opts['marker'] = marker.value   \n",
    "elif type.value == 'points':\n",
    "    del plot_opts['colors']\n",
    "    plot_opts['color'] = color.value\n",
    "    plot_opts['marker'] = marker.value    \n",
    "\n",
    "for j in range(len(plots.value)):\n",
    "    cube = iris.load_cube(files.value, plots.value[j])\n",
    "    # Now need to work out how to put dictionary values in cube index list\n",
    "    callable(cube[], **plot_opts)\n",
    "    iplt.show()"
   ]
  },
  {
   "cell_type": "code",
   "execution_count": 119,
   "metadata": {
    "collapsed": false
   },
   "outputs": [],
   "source": [
    "dim_dict = {}\n",
    "dim_list = []\n",
    "# Find dimension coordinates which are not axis coordinates, and append them to a list\n",
    "# For dimensions which are axis coordinates, put ':' in dictionary\n",
    "for coord in ([(coord.name()) for coord in cube.coords()]):\n",
    "    if cube.coord(coord) in cube.coords(dim_coords=True):\n",
    "        if coord not in [dim_x.value, dim_y.value]:\n",
    "            dim_list.append(coord)\n",
    "        else:\n",
    "            dim_dict[dim_x.value] = ':'\n",
    "            dim_dict[dim_y.value] = ':'\n",
    "\n",
    "# Extract index value of non-axis coordinates from slider list and add to dictionary\n",
    "for i in range(len(coordinates)):\n",
    "    if coordinates[i] in dim_list:\n",
    "        dim_dict[dim_list[i]] = sliders[i].value\n",
    "\n"
   ]
  },
  {
   "cell_type": "code",
   "execution_count": null,
   "metadata": {
    "collapsed": true
   },
   "outputs": [],
   "source": []
  }
 ],
 "metadata": {
  "kernelspec": {
   "display_name": "Python 2",
   "language": "python",
   "name": "python2"
  },
  "language_info": {
   "codemirror_mode": {
    "name": "ipython",
    "version": 2
   },
   "file_extension": ".py",
   "mimetype": "text/x-python",
   "name": "python",
   "nbconvert_exporter": "python",
   "pygments_lexer": "ipython2",
   "version": "2.7.11"
  },
  "urth": {
   "dashboard": {
    "layout": "report"
   }
  },
  "widgets": {
   "state": {
    "014cf1738113419fa9b68dfeb9431dda": {
     "views": [
      {
       "cell_index": 21
      }
     ]
    },
    "01e380d91e0544b1b8b75584f42544a2": {
     "views": [
      {
       "cell_index": 21
      }
     ]
    },
    "0550e528b316425aa3ad53268ae9d6d7": {
     "views": []
    },
    "0559a5f3fde941af86dd05a2949c8412": {
     "views": []
    },
    "06c63a1d403442f99637777302576c1c": {
     "views": []
    },
    "076aa2b4c9874bf4ac34f5d7a2954a6d": {
     "views": []
    },
    "08a55d15d4284fb6b99070d15a4c1b66": {
     "views": []
    },
    "08d8563a822f4d1893292418fd8cd927": {
     "views": []
    },
    "09d271cd43224981a0c3761748be0cdd": {
     "views": []
    },
    "0ad5c846587449488aa730ec32dce315": {
     "views": []
    },
    "0c17403524c44edea0ec2d27439b9cb5": {
     "views": []
    },
    "0d77e2b95b8c4e91865cfae6e7216c63": {
     "views": []
    },
    "0df9f174af6344aa9d5a56381e8703bd": {
     "views": []
    },
    "10f5341118e547eabc256057a142b4fa": {
     "views": [
      {
       "cell_index": 21
      }
     ]
    },
    "12576101b1304106adc39dfcde50a8d7": {
     "views": []
    },
    "13146a8caffa4b1fa5e52b2522cf622f": {
     "views": []
    },
    "175077a5db204ce59cdc2dbdfc0edf16": {
     "views": []
    },
    "1757d036e2704ecc856a6730e8ecd903": {
     "views": []
    },
    "18e248b4a94c4d4e8a11206b2226bf4b": {
     "views": []
    },
    "1aa0d82b4dcd428198049bf2abad4f20": {
     "views": []
    },
    "1abc6c7b46ce43f3a6167cb9533667d8": {
     "views": []
    },
    "1abde595ff6e4972b4631712fb19f10a": {
     "views": []
    },
    "1afd09c5ead64aa289a0d5d5efd74fa1": {
     "views": []
    },
    "1b473371cc7a45818e24fe0b512af023": {
     "views": []
    },
    "1ba57703d8bc41a98f1adcbb36f8f337": {
     "views": []
    },
    "1bffb81a253e4241aeccf38459e4153f": {
     "views": []
    },
    "1c1a8e62d13b432a9aae4f751b06af6d": {
     "views": []
    },
    "1f1cb4ea87e0453d93659acbf30215b2": {
     "views": []
    },
    "1f7d50d7d8ad4503aa27b6f9e3fd7f0a": {
     "views": [
      {
       "cell_index": 24
      }
     ]
    },
    "202a82dd968249c28c5a41bc221c048b": {
     "views": []
    },
    "20927740e85541688701742c566ed5b1": {
     "views": [
      {
       "cell_index": 21
      }
     ]
    },
    "21ff13b7a5d545839482009970cf581d": {
     "views": []
    },
    "226826f5734e447f8c92870c39b120db": {
     "views": []
    },
    "22ba2e514ea649249f93a262e9146060": {
     "views": [
      {
       "cell_index": 21
      }
     ]
    },
    "23251b0504d94806bcf9b481cd2845b3": {
     "views": [
      {
       "cell_index": 21
      }
     ]
    },
    "24be6cab270d47a6928fc6c090bde04c": {
     "views": [
      {
       "cell_index": 21
      }
     ]
    },
    "24ce0095cce441198007649d958386a9": {
     "views": [
      {
       "cell_index": 24
      }
     ]
    },
    "254e094d53a44af1a5fcc0295ebaed90": {
     "views": [
      {
       "cell_index": 24
      }
     ]
    },
    "282882f3a608477981ce41a2a818682b": {
     "views": []
    },
    "286d91d43c3e423c94e0a384c8c2913c": {
     "views": []
    },
    "2888f75cf43345648130eadbb86728ea": {
     "views": []
    },
    "292069d67e654c3587037285912f7653": {
     "views": []
    },
    "2a6133273c0042ca8a7228d96d855294": {
     "views": []
    },
    "2aee4ba6c52f475dbc3fccd848917cdb": {
     "views": []
    },
    "2b202b4efb3741b4b2b255ed7baa7b42": {
     "views": [
      {
       "cell_index": 21
      }
     ]
    },
    "2bcc1f349f37481da5e906e78aeb5540": {
     "views": []
    },
    "2df9936278744143a0dc00a3aed03f16": {
     "views": []
    },
    "2e3eb1118f5e4984ba5ec406c5ccd865": {
     "views": []
    },
    "2e66bfe138d943a598c169e281976a8e": {
     "views": []
    },
    "312127c723ca4163bfe2d4146500ddfd": {
     "views": []
    },
    "31dbb34c48984141bdc9101b6cb0beaa": {
     "views": []
    },
    "3234beb771f84c3c9e22e4360c984e03": {
     "views": []
    },
    "32b56f4477de405ba1c1949e73288892": {
     "views": []
    },
    "33418b51cfef46328812203298e7ccff": {
     "views": [
      {
       "cell_index": 12
      }
     ]
    },
    "3424b2347ca74b24879c66496f3da5fa": {
     "views": [
      {
       "cell_index": 21
      },
      {
       "cell_index": 21
      },
      {
       "cell_index": 21
      },
      {
       "cell_index": 21
      },
      {
       "cell_index": 21
      },
      {
       "cell_index": 21
      },
      {
       "cell_index": 21
      },
      {
       "cell_index": 21
      },
      {
       "cell_index": 21
      },
      {
       "cell_index": 21
      },
      {
       "cell_index": 21
      }
     ]
    },
    "3500ad8fb4784ad892c006223a3f3ded": {
     "views": []
    },
    "35543e1f5744425da95394bdc8cb49df": {
     "views": [
      {
       "cell_index": 21
      }
     ]
    },
    "36e4548d17484e0580df31f6e65e97dc": {
     "views": []
    },
    "3a20ce986aca4273847a6bf78d29d35e": {
     "views": [
      {
       "cell_index": 24
      }
     ]
    },
    "3c7e8c312a7f4e019b85ba25658df60f": {
     "views": []
    },
    "3c9d5af13a324db3a67a6fe0052e59f8": {
     "views": [
      {
       "cell_index": 24
      }
     ]
    },
    "400e28032af04ecbb0671a77dcef5efa": {
     "views": [
      {
       "cell_index": 21
      }
     ]
    },
    "40c319b7612e476ca2a964b439725a7a": {
     "views": []
    },
    "41a67456aa724d1f826013c5bd216099": {
     "views": []
    },
    "42deeb0ef938472aa5f5bb1dce501f67": {
     "views": [
      {
       "cell_index": 24
      }
     ]
    },
    "438461ac1525428cbe91255d4387ea88": {
     "views": []
    },
    "44803b0b78a5461c92aebf251f5998f2": {
     "views": []
    },
    "46699593a9dc4a139573a66881509428": {
     "views": []
    },
    "47021e6b306140578881672149028608": {
     "views": []
    },
    "4aa6a2e5d74e4f4685d444210e40e387": {
     "views": []
    },
    "4b1d9f934aef471d8cd81b0e4f4b4c56": {
     "views": []
    },
    "4c16913e9e5f4c69ac4434af4a6bbda3": {
     "views": []
    },
    "52a851e4a55a4c748b7bdd4cf521c370": {
     "views": []
    },
    "534c4b5da37f49d18ea5ce749c884992": {
     "views": []
    },
    "54eb0cfbbda94ed1a6cf3556902b94b2": {
     "views": []
    },
    "565aadc5855c42239867e898db6d6ac3": {
     "views": []
    },
    "565ea0e3cefe4330a607ddf23e134592": {
     "views": [
      {
       "cell_index": 21
      }
     ]
    },
    "59a0e6f1850049ac85a4503358106b6f": {
     "views": [
      {
       "cell_index": 21
      }
     ]
    },
    "5b380f2fa8184c94922deaa741b41937": {
     "views": []
    },
    "5d0db0b14b9445e1a6a0afa9ebbd4a37": {
     "views": [
      {
       "cell_index": 21
      },
      {
       "cell_index": 21
      }
     ]
    },
    "61e6e59a56d04f08a2312939b60f735f": {
     "views": []
    },
    "6339746a03fe411fb79450cf18beede8": {
     "views": [
      {
       "cell_index": 24
      }
     ]
    },
    "639e30f12d65454198562b68c9f4a224": {
     "views": []
    },
    "63d1b6c1bb9149148556c0eefef33252": {
     "views": []
    },
    "6505fa98d25149c885b0811dc2daa584": {
     "views": []
    },
    "65ce588e53b8485bb8d4d030c1306719": {
     "views": []
    },
    "667f39eddd56475baae76d8a73883abe": {
     "views": []
    },
    "67274ecb24c44e9eb15c3b10498f0a0d": {
     "views": []
    },
    "679958636c2d4fd389bb302f5aa3c97e": {
     "views": [
      {
       "cell_index": 21
      }
     ]
    },
    "68c8db22f87045aab831e4feb458b2d8": {
     "views": []
    },
    "6915942600a94e058dfceb76ce36530d": {
     "views": []
    },
    "699d40dafab54b38a8d7228c3055e395": {
     "views": []
    },
    "6a284209be08404f95cdaff8150c3eff": {
     "views": []
    },
    "6beeb3d394a04ad6a717c51061aff0f0": {
     "views": []
    },
    "6c82a32596414ca485f9066d3a957ec8": {
     "views": []
    },
    "6c945c6f58604c61a139b3a24b80104e": {
     "views": []
    },
    "6cbca8a1fdf94a85bb14e8a2a7ac77fc": {
     "views": [
      {
       "cell_index": 16
      }
     ]
    },
    "709a84e882c24fcdbff529f1d38efb0c": {
     "views": [
      {
       "cell_index": 24
      }
     ]
    },
    "71843225fdad45e498f898b85ab7b417": {
     "views": []
    },
    "72164dde681b49f4baa92be76865f3ca": {
     "views": []
    },
    "72d8c8dc205e43968c828398efee0143": {
     "views": []
    },
    "73ddc83a1f9545a8aa0246b3f24afab8": {
     "views": []
    },
    "73f3355b876b437486026f3fc40ba022": {
     "views": []
    },
    "74d8d8b2f265425e8d3afd7121596a61": {
     "views": []
    },
    "753b5d5a8b624d2d93d32d624fd2849a": {
     "views": []
    },
    "7595be9f3175485ba73d67d133d69313": {
     "views": []
    },
    "75d0d448b84b478d8524f4342835f283": {
     "views": []
    },
    "77e2124f60034c89bd8e1e94c151b29b": {
     "views": []
    },
    "7977b4dc14c8416a81aa8949de7c759d": {
     "views": []
    },
    "7a13929a36804d08ab8300bff72a6f5a": {
     "views": []
    },
    "7b5fab96439b4a3f966a20e0e1a43feb": {
     "views": []
    },
    "7b9e28c3a0284d12ad00e719e560a141": {
     "views": []
    },
    "7d184fb8c11c4ab0a17ed2c1e9b1a3dc": {
     "views": []
    },
    "7e615a237b6747b083317b25038738c6": {
     "views": []
    },
    "828396933b494d8fad7e22410c13da4f": {
     "views": []
    },
    "8504c79084de48689f8987ed2eae00cd": {
     "views": []
    },
    "8658431347374cabb1089cbff02232f4": {
     "views": []
    },
    "8aba4985806a424e9d8bf7a6ed4aca09": {
     "views": [
      {
       "cell_index": 8
      }
     ]
    },
    "8e30e76cf00c439db17e6223fff70376": {
     "views": []
    },
    "8e875653e13345d08cd734c4b59f0144": {
     "views": []
    },
    "8edbfcd479ac43d3abab3976b913c266": {
     "views": []
    },
    "8f32fc5cccf54eb6a8a8dd19a07e0969": {
     "views": []
    },
    "8fbab9a14ced432b89502216a6747f56": {
     "views": []
    },
    "909b5d25dba14f539b361a7ce13002a0": {
     "views": [
      {
       "cell_index": 21
      }
     ]
    },
    "915c42cf2d0e4b08b84a6db61243e18f": {
     "views": []
    },
    "9177c417a616426cbbd461439a578e6e": {
     "views": []
    },
    "9430f19a9326435796f2a00832201804": {
     "views": []
    },
    "95887d8826524fc68a0c8674a86019b8": {
     "views": [
      {
       "cell_index": 19
      }
     ]
    },
    "9678f59dbb4c4f259cdba8c426fe248d": {
     "views": []
    },
    "96b76dd0f9504bac989ac519ed2ab01f": {
     "views": []
    },
    "97407b50887347ff99e4cc51f79757a9": {
     "views": []
    },
    "991c6a053edc4ba1a9d97f90c8840844": {
     "views": []
    },
    "9a2c7571c75b47eb966c2aaf631578a3": {
     "views": []
    },
    "9b9a2a0f950f4b14bd275a89079ca923": {
     "views": []
    },
    "9c117669b9b4451cb908e7a0578875b9": {
     "views": []
    },
    "9c52d4985ddb4952ba426e685f4a8f25": {
     "views": [
      {
       "cell_index": 21
      }
     ]
    },
    "9c7a98f091e7443086ddc47a37ec9140": {
     "views": []
    },
    "9d8a5689e8204d6fb1138c1441129741": {
     "views": []
    },
    "9de2c75b28be4be68105f0bd1a5c44be": {
     "views": []
    },
    "a0658c093a674572a16d4f6903d79500": {
     "views": []
    },
    "a1e91c77f644421aae12d2ecae171a2e": {
     "views": [
      {
       "cell_index": 24
      }
     ]
    },
    "a221d8391cf44cbb9652cf71b38af693": {
     "views": []
    },
    "a492058b897c4d33870b88ac330b14d3": {
     "views": []
    },
    "a6075200928448409b96ced0a603671e": {
     "views": []
    },
    "a73b215028e649db831f3d0756ab99e8": {
     "views": []
    },
    "a8c3717f03e246e68835f1fadb830729": {
     "views": []
    },
    "a93707744d344334b31b5119a94dd526": {
     "views": []
    },
    "aa1eee2ae1404dbe8bbf423731a6b016": {
     "views": []
    },
    "ac181f83d6d34265b3b3d35716d23009": {
     "views": []
    },
    "ac792915b776411681197fa1d32539b3": {
     "views": []
    },
    "aca6d472818d4064b778e1aef11316d9": {
     "views": []
    },
    "adb33eb2a95149a79d842c1b6f26c40a": {
     "views": []
    },
    "aecd4f4ea4564ebba711fe845a8f27a2": {
     "views": []
    },
    "b268300abe434d558c3d98414255435a": {
     "views": []
    },
    "b48aeafbbaea4d9895c5a9c5a8b5fb12": {
     "views": []
    },
    "b4feb7eed62240cc96bccd7a512b6594": {
     "views": [
      {
       "cell_index": 21
      }
     ]
    },
    "b6063226f0c3461c80c27bad25941300": {
     "views": []
    },
    "bb526b39262d44d38e44f750bfccb72b": {
     "views": []
    },
    "bbb9ac6bfcc241f4b6c8391940002ba8": {
     "views": []
    },
    "bc320778e4724360a7210666ffcce9c9": {
     "views": []
    },
    "bfd04aae6cd44ddf8165c087870c7cdc": {
     "views": []
    },
    "c157b1676cf244c383321d001ae24850": {
     "views": []
    },
    "c620f3fedffe4f0fa3571593775937c8": {
     "views": []
    },
    "ca806dca5f3645cfadfb7cfd3b83fe0f": {
     "views": []
    },
    "caa1bd85775d418e89b3eb17f7fd692d": {
     "views": []
    },
    "cc215d2e909b4c1b9daa95cf09294c3a": {
     "views": []
    },
    "cc2acbd2419240949624254e966325db": {
     "views": []
    },
    "cc5ef424ee1a4bb58aca0eafe80ef869": {
     "views": []
    },
    "cdbb87244a8d4b0386b972c1aac13f85": {
     "views": []
    },
    "cdc52305df1a4e07804d0db386edf27b": {
     "views": []
    },
    "d284bec0e97b4a75a3a4331fa4d80db5": {
     "views": [
      {
       "cell_index": 24
      }
     ]
    },
    "d3dd285a5f914b9694d414a7e9681ef6": {
     "views": []
    },
    "d42abdc9af6e4656b4014ab9c8a34f1d": {
     "views": [
      {
       "cell_index": 24
      }
     ]
    },
    "d4a7e993a904473e8fb0700670df988b": {
     "views": []
    },
    "d68ff6b50e3d4e95b01bc2a902788aa7": {
     "views": [
      {
       "cell_index": 7
      }
     ]
    },
    "d82a3542c8fd4635ac1c9b23ef573203": {
     "views": []
    },
    "d88879046e8b4008ab98cde2992715c1": {
     "views": []
    },
    "d93d778748da45d8aa4a4480ae11b0c6": {
     "views": []
    },
    "d9925634e0874a08ba82e7ee53ebd88b": {
     "views": []
    },
    "da28d5a0882044f9a009a41858ee5b3b": {
     "views": []
    },
    "daf865a6f5cd4591bdf39d882a477aa6": {
     "views": []
    },
    "dce409df2916418db05e8efeff1d1a33": {
     "views": []
    },
    "df1f52c68b254f2884709da8d6834e4c": {
     "views": []
    },
    "df5bf06bebcf42ffa0c944a3b22ffbda": {
     "views": []
    },
    "e1502150e02e4798a60d2e83e20117b2": {
     "views": [
      {
       "cell_index": 20
      }
     ]
    },
    "e1af20ee2ea249f7a7e29753626c0167": {
     "views": []
    },
    "e4fcba5687d94ea4b10d08cb0034f642": {
     "views": [
      {
       "cell_index": 24
      }
     ]
    },
    "e5317ac2ae92441f9d183d79fa4eecac": {
     "views": []
    },
    "e5b9ab2efe054c7abdb762d28e9aefea": {
     "views": []
    },
    "e6b7b1858e554900b037391df3cf7b21": {
     "views": []
    },
    "e6c38f193de84f939a4c25299b6d384c": {
     "views": [
      {
       "cell_index": 21
      }
     ]
    },
    "e7314ada3b304fc88c9cfcab8315b6db": {
     "views": []
    },
    "e78473a418d64d76bbc6cb693f6463f8": {
     "views": []
    },
    "ec00ef05955741b6ae33cc5420d41586": {
     "views": []
    },
    "ec12f24c3b3c488796642708c609922e": {
     "views": []
    },
    "eda1482c81434f98a29aeb9b320f8835": {
     "views": []
    },
    "ef95b40a38c74b45959ef485f5b62086": {
     "views": []
    },
    "f0519de58a994784884546078dc5b3be": {
     "views": []
    },
    "f0743995fe0b41e1a67e1a8ca4c59c49": {
     "views": []
    },
    "f2162d5a70ee4790b96e1bb90dbd933d": {
     "views": [
      {
       "cell_index": 21
      }
     ]
    },
    "f31a3f6706fd46e1b73dde03edf82edf": {
     "views": []
    },
    "f354f9f72fc54fa9a7dc538423e29a27": {
     "views": []
    },
    "f5b123be35664990a41a9900b075297e": {
     "views": []
    },
    "f807a6b767874b8a9a06eb61d888d006": {
     "views": [
      {
       "cell_index": 21
      }
     ]
    },
    "f877759992b3461e9f07dcaa9f7e2512": {
     "views": []
    },
    "fad9eaff84cd47ac890bd00d4862e2e0": {
     "views": []
    },
    "fb96ef4154f94988ad3c01c94f080319": {
     "views": []
    },
    "fbc3dd73ecdd4e0087d94d03d0a42757": {
     "views": []
    },
    "fc35dccdc16248408d9f30f27c56a10c": {
     "views": []
    },
    "fd6dc7181a1e4f068673d1f234b5a93d": {
     "views": []
    }
   },
   "version": "1.1.1"
  }
 },
 "nbformat": 4,
 "nbformat_minor": 0
}
