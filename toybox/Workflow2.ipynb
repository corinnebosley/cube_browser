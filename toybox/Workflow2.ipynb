{
 "cells": [
  {
   "cell_type": "markdown",
   "metadata": {},
   "source": [
    "# Workflow Example 2"
   ]
  },
  {
   "cell_type": "markdown",
   "metadata": {},
   "source": [
    "This workflow is based on the visualization and analysis of a single cube, with options to perform operations on that cube and plot the outcome alongside the original.\n",
    "\n",
    "This is based on a suggestion from Chris Kent."
   ]
  },
  {
   "cell_type": "code",
   "execution_count": null,
   "metadata": {
    "collapsed": false
   },
   "outputs": [],
   "source": [
    "import ipywidgets\n",
    "import IPython.display\n",
    "import iris\n",
    "\n",
    "import glob\n",
    "import numpy as np\n",
    "import iris.quickplot as iplt\n",
    "import matplotlib.pyplot as plt"
   ]
  },
  {
   "cell_type": "code",
   "execution_count": null,
   "metadata": {
    "collapsed": true
   },
   "outputs": [],
   "source": [
    "%matplotlib inline"
   ]
  },
  {
   "cell_type": "markdown",
   "metadata": {},
   "source": [
    "# 1. Choose and load your cube"
   ]
  },
  {
   "cell_type": "code",
   "execution_count": null,
   "metadata": {
    "collapsed": true
   },
   "outputs": [],
   "source": [
    "path = ipywidgets.Text(\n",
    "    description='Filepath',\n",
    "    value='../../iris-sample-data/sample_data',\n",
    ")\n",
    "IPython.display.display(path)"
   ]
  },
  {
   "cell_type": "code",
   "execution_count": null,
   "metadata": {
    "collapsed": true
   },
   "outputs": [],
   "source": [
    "options = glob.glob('{}/*'.format(path.value))                                                \n",
    "\n",
    "files = ipywidgets.Select(\n",
    "    description='Cube(list)',\n",
    "    options=options\n",
    ")\n",
    "IPython.display.display(files)"
   ]
  },
  {
   "cell_type": "code",
   "execution_count": null,
   "metadata": {
    "collapsed": false
   },
   "outputs": [],
   "source": [
    "cube = files.value\n",
    "cubes = iris.load_raw(cube)\n",
    "\n",
    "to_plot = [cube.standard_name for cube in cubes]\n",
    "\n",
    "plots = ipywidgets.Select(\n",
    "description='Choose cube(s)',\n",
    "options=to_plot\n",
    ")\n",
    "\n",
    "IPython.display.display(plots)"
   ]
  },
  {
   "cell_type": "markdown",
   "metadata": {},
   "source": [
    "# 2. Define your analytical operation"
   ]
  },
  {
   "cell_type": "code",
   "execution_count": null,
   "metadata": {
    "collapsed": false
   },
   "outputs": [],
   "source": [
    "ops = {'aggregate': cube.aggregated_by, 'collapse': cube.collapsed}\n",
    "\n",
    "op = ipywidgets.RadioButtons(\n",
    "    description='Cube operation:',\n",
    "    options=ops)\n",
    "\n",
    "IPython.display.display(op)"
   ]
  },
  {
   "cell_type": "code",
   "execution_count": null,
   "metadata": {
    "collapsed": true
   },
   "outputs": [],
   "source": [
    "# I need to think about this.  Aggregation and collapse can be a bit complicated (especially aggregation) so I need\n",
    "# to evaluate whether it is worthwhile including all the options in a GUI, or whether to severely limit the options \n",
    "# (for example, to just offer collapse options).\n",
    "\n",
    "# After I have made this decision, I can think about how to structure the options for this section."
   ]
  },
  {
   "cell_type": "code",
   "execution_count": null,
   "metadata": {
    "collapsed": true
   },
   "outputs": [],
   "source": [
    "methods = ['']\n",
    "\n",
    "method = ipywidgets"
   ]
  }
 ],
 "metadata": {
  "kernelspec": {
   "display_name": "Python 2",
   "language": "python",
   "name": "python2"
  },
  "language_info": {
   "codemirror_mode": {
    "name": "ipython",
    "version": 2
   },
   "file_extension": ".py",
   "mimetype": "text/x-python",
   "name": "python",
   "nbconvert_exporter": "python",
   "pygments_lexer": "ipython2",
   "version": "2.7.11"
  },
  "widgets": {
   "state": {
    "1b330174b7324c60976cf5ecfd51b54b": {
     "views": []
    },
    "22f9f6f91d244f3aad169d3b9afe0a19": {
     "views": []
    },
    "23305959aac3440b8daae42ad49922a1": {
     "views": []
    },
    "2792634b8fcb492495abb58486638bb1": {
     "views": []
    },
    "2edd501791f04f029b30f68e3090e6d2": {
     "views": []
    },
    "2fa5d8eb02f642f29bd32e9a65588c01": {
     "views": [
      {
       "cell_index": 6
      }
     ]
    },
    "3051889da4884dfe9033b60270b2b9f1": {
     "views": []
    },
    "41f0d04b5bad4ff2bfc6ac1e1f4cd506": {
     "views": []
    },
    "57a0633e5ea4494ba623dc631b334a41": {
     "views": []
    },
    "8701dcd1793f44a999cffd2896181b87": {
     "views": []
    },
    "c0127a6e63c544e19781ec936d1757a1": {
     "views": [
      {
       "cell_index": 7
      }
     ]
    },
    "c03005fe94c24dcb969e094f6c667182": {
     "views": [
      {
       "cell_index": 9
      }
     ]
    },
    "ca61d3ec8b6245a2a1ea8a325fd2f2f6": {
     "views": []
    },
    "e041b42f9903474e8edda7bec31027c9": {
     "views": []
    },
    "e951161519ad478abf866f23c9cf865f": {
     "views": [
      {
       "cell_index": 5
      }
     ]
    },
    "f5b2cb5cb01b472bbe69b4bd9a13ed83": {
     "views": []
    }
   },
   "version": "1.1.1"
  }
 },
 "nbformat": 4,
 "nbformat_minor": 0
}
