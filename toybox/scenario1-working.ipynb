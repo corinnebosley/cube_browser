{
 "cells": [
  {
   "cell_type": "code",
   "execution_count": null,
   "metadata": {
    "collapsed": false
   },
   "outputs": [],
   "source": [
    "%matplotlib notebook"
   ]
  },
  {
   "cell_type": "code",
   "execution_count": null,
   "metadata": {
    "collapsed": true
   },
   "outputs": [],
   "source": [
    "import ipywidgets\n",
    "import IPython\n",
    "import matplotlib.pyplot as plt\n",
    "\n",
    "import iris\n",
    "import iris.plot as iplt"
   ]
  },
  {
   "cell_type": "code",
   "execution_count": null,
   "metadata": {
    "collapsed": true
   },
   "outputs": [],
   "source": [
    "# class _Base(object):\n",
    "#     def _coord_dims(self):\n",
    "#         mapping = {}\n",
    "#         for dim in range(self.cube.ndim):\n",
    "#             coords = self.cube.coords(dimensions=(dim,))\n",
    "#             mapping.update([(c.name(), dim) for c in coords])\n",
    "#         return mapping\n",
    "    \n",
    "#     def slide_extent(self, name):\n",
    "#         if name not in self._coord_dim:\n",
    "#             emsg = 'Cannot use {!r} to slide over cube {!r}.'\n",
    "#             raise ValueError(emsg.format(name, self.cube.name()))\n",
    "#         return self.cube.shape[self._coord_dim[name]]"
   ]
  },
  {
   "cell_type": "code",
   "execution_count": null,
   "metadata": {
    "collapsed": true
   },
   "outputs": [],
   "source": [
    "# This is the thing that you construct, but its first job is to enlist _Base to drag all the information out of the cube.\n",
    "class Contourf(object):\n",
    "    def __init__(self, cube, coords, axes, *args, **kwargs):\n",
    "        self.cube = cube\n",
    "        self.coords = coords # coords to plot \n",
    "        self.axes = axes\n",
    "        self.args = args\n",
    "        self.kwargs = kwargs\n",
    "        self.qcs = None  # QuadContourSet\n",
    "        # A mapping of 1d-coord name to dimension\n",
    "        self.coord_dim = self.coord_dims()\n",
    "        \n",
    "    def __call__(self, **kwargs):\n",
    "        index = [slice(None)] * self.cube.ndim\n",
    "        for name, value in kwargs.items():\n",
    "            index[self.coord_dim[name]] = value\n",
    "        cube = self.cube[tuple(index)]\n",
    "#        plt.sca(self.axes)\n",
    "        self.qcs = iplt.contourf(cube, *self.args, **self.kwargs)\n",
    "        return plt.gca()\n",
    "    \n",
    "    def coord_dims(self):\n",
    "        mapping = {}\n",
    "        for dim in range(self.cube.ndim):\n",
    "            coords = self.cube.coords(dimensions=(dim,))\n",
    "            mapping.update([(c.name(), dim) for c in coords])\n",
    "        return mapping\n",
    "    \n",
    "    def slide_extent(self, name):\n",
    "        if name not in self.coord_dim:\n",
    "            emsg = 'Cannot use {!r} to slide over cube {!r}.'\n",
    "            raise ValueError(emsg.format(name, self.cube.name()))\n",
    "        return self.cube.shape[self.coord_dim[name]]"
   ]
  },
  {
   "cell_type": "code",
   "execution_count": null,
   "metadata": {
    "collapsed": false
   },
   "outputs": [],
   "source": [
    "# Viewer is the thing which puts all the plots together and shows them to you.\n",
    "class Viewer(object):\n",
    "    def __init__(self, plot):\n",
    "        self.cube = plot.cube\n",
    "        self.coords = plot.coords\n",
    "        self.axes = plot.axes\n",
    "        self.args = plot.args\n",
    "        self.kwargs = plot.kwargs               \n",
    "        self._sliders = {}\n",
    "        self.coord_dim = plot.coord_dim\n",
    "        # This bit turns all dim coords which aren't on the axes into sliders and maps them for plotting\n",
    "        for name in self.coord_dim:\n",
    "            if name not in self.coords:\n",
    "                depth = plot.slide_extent(name) \n",
    "                slider = ipywidgets.IntSlider(min=0, max=depth, description=name)\n",
    "                slider.observe(self.on_change, names='value')\n",
    "                self._sliders[name] = slider\n",
    "                s_coord = {name:self.coord_dim[name]}\n",
    "        self.plot = plot\n",
    "        self.form = ipywidgets.HBox()\n",
    "        self.form.children = self._sliders.values()\n",
    "        IPython.display.display(self.form)\n",
    "        plt.sca(self.axes)\n",
    "        \n",
    "# This tells the plot to respond to value changes in the sliders    \n",
    "    def on_change(self, change):\n",
    "        s_coords = {}\n",
    "        for name, slider in self._sliders.items():\n",
    "            s_coords[name] = slider.value\n",
    "        self.axes = self.plot(**s_coords)\n"
   ]
  },
  {
   "cell_type": "markdown",
   "metadata": {},
   "source": [
    "**Scenario 1**\n",
    "\n",
    "I want to plot a filled contour of a 3-dimensional cube with a slider of the unspecified dimension."
   ]
  },
  {
   "cell_type": "code",
   "execution_count": null,
   "metadata": {
    "collapsed": false
   },
   "outputs": [],
   "source": [
    "cube = iris.load_cube(iris.sample_data_path('atlantic_profiles.nc'), 'sea_water_potential_temperature')\n",
    "print cube"
   ]
  },
  {
   "cell_type": "code",
   "execution_count": null,
   "metadata": {
    "collapsed": false
   },
   "outputs": [],
   "source": [
    "fig = plt.figure()\n",
    "ax1 = fig.add_subplot(111)\n",
    "\n",
    "\n",
    "plot1 = Contourf(cube, coords=('longitude', 'latitude'), axes=ax1, cmap='viridis')\n",
    "Viewer(plot1)\n",
    "\n"
   ]
  },
  {
   "cell_type": "code",
   "execution_count": null,
   "metadata": {
    "collapsed": true
   },
   "outputs": [],
   "source": []
  }
 ],
 "metadata": {
  "kernelspec": {
   "display_name": "Python 2",
   "language": "python",
   "name": "python2"
  },
  "language_info": {
   "codemirror_mode": {
    "name": "ipython",
    "version": 2
   },
   "file_extension": ".py",
   "mimetype": "text/x-python",
   "name": "python",
   "nbconvert_exporter": "python",
   "pygments_lexer": "ipython2",
   "version": "2.7.11"
  },
  "widgets": {
   "state": {
    "0006719c96024b9cbf157722626910a7": {
     "views": []
    },
    "002e0ba6a87d450d87157ad9a4826c33": {
     "views": []
    },
    "0092e4f77d74485dbbe60ace427a56a3": {
     "views": []
    },
    "01a848139791400bb2d97a35b1355543": {
     "views": []
    },
    "02218c4a156f412eab497cde1aa12cec": {
     "views": []
    },
    "02340c524df9458c84c628f93d37bc3f": {
     "views": []
    },
    "034e2e0e993444c696334db68c651df1": {
     "views": []
    },
    "03b644092af94e9e83993b38e3a9ef9e": {
     "views": []
    },
    "03b81476e6b24c69a2e2c10d729333fa": {
     "views": []
    },
    "0407f7c7852d4fcf9ddb17cc65e5e09b": {
     "views": []
    },
    "056064d87a804aa0b7a42e5cedb9ef37": {
     "views": []
    },
    "0692e18e9dab4149963d3bacb554bafc": {
     "views": []
    },
    "08957e5db8ec4ec7947276a010f20c94": {
     "views": []
    },
    "09478372687342248b54563e72bd945c": {
     "views": []
    },
    "0b7a0bd1b7b44bafbca905e64e75e20b": {
     "views": []
    },
    "0b85a11afae5461db9262bf7a713fd01": {
     "views": []
    },
    "0ba9be3677414b6180ca39374292835c": {
     "views": []
    },
    "0e28b721e8a44c68a712c8e078168380": {
     "views": []
    },
    "0eed4493d83f471a8f4f29e7ce6c7343": {
     "views": []
    },
    "0f5a23498f1c4fb0a563eda8ed199109": {
     "views": []
    },
    "0f95582779ec4d8ebe5c6d3e05453404": {
     "views": []
    },
    "101f6d3f7078410893cb912589216db7": {
     "views": []
    },
    "1083da60cb0d4fdeb6ba2aefa7f58e60": {
     "views": []
    },
    "123bad4bbef040ee99ee9aa324f5bb0a": {
     "views": []
    },
    "1348f73ff1bd41809d84bf1b551db73f": {
     "views": []
    },
    "13d59719809d4ee7ba33a7303b2ea191": {
     "views": []
    },
    "13d735f66bcf4635a19a2c73940eb41d": {
     "views": []
    },
    "1473edb295a942ac806c8cadc7511585": {
     "views": []
    },
    "14ff84b11819484d9ec23235124365ea": {
     "views": []
    },
    "153c639edbdc43528e8a6c34ae9e4009": {
     "views": []
    },
    "15466191339740b8b1c183c75deecd3f": {
     "views": []
    },
    "15ff14296df14756a52e0107c4ca057a": {
     "views": []
    },
    "1930282d60664937ad0c53aa77eb13a4": {
     "views": []
    },
    "1a3c3915d17a46a9940668e4971e4dc7": {
     "views": []
    },
    "1a706078895f469ca45719ff96121f0e": {
     "views": []
    },
    "1bde317b07704dd2ad6f16edfed36cc2": {
     "views": []
    },
    "1c021aa48ccf4d609ecea72eab93495d": {
     "views": []
    },
    "1d01d0a04fdc4eb9b83a54271bfbf606": {
     "views": []
    },
    "1d5296cc0ca541dea4f042a57ba7169d": {
     "views": []
    },
    "1d6109aa26de4f5e8ffae8fc62a2c62c": {
     "views": []
    },
    "1ee154882dde49288c4fe64c97e16dc6": {
     "views": []
    },
    "21094205807541f4a880ea2ab79828b0": {
     "views": []
    },
    "210e97de640b4af3be0dd9757c062d4f": {
     "views": []
    },
    "21b369cafe2745279ce311031ea9d582": {
     "views": []
    },
    "21d2fabefecd4467b64f08cda35682fb": {
     "views": []
    },
    "22c8af9e23694678ababb743ab8cd286": {
     "views": []
    },
    "246423d9f4804882bbef3d3c57b5ecff": {
     "views": []
    },
    "24d9628481474d80bdc8cd05937b52b4": {
     "views": []
    },
    "24eb0a3cb0c64b389305a71d253ec457": {
     "views": []
    },
    "24f10dcfa5774906890706a69fad04ae": {
     "views": []
    },
    "26f9875774c3416bbf1de030123a49e7": {
     "views": []
    },
    "28d3873852da4064b3f938b14b080dcd": {
     "views": [
      {
       "cell_index": 7
      }
     ]
    },
    "28e0401a5f3644f3a1c3fd6bebea597a": {
     "views": []
    },
    "29bf5132d4e44f08b42cd4d2487dd646": {
     "views": []
    },
    "29e8676052ad444ea9cdf43a41dfb596": {
     "views": []
    },
    "2a39083f461e4052a6345091cd28d74e": {
     "views": []
    },
    "2af18840cd2e442d9970ea445eb69b79": {
     "views": []
    },
    "2b85f5bb5f6849729e51a36e10bf0aea": {
     "views": []
    },
    "2bf554aca2ed4ef09cd256454d57d70f": {
     "views": []
    },
    "2c37bb82fced4977998d8855527f0583": {
     "views": []
    },
    "2fcd8ca23c844ece80ee709af44bd756": {
     "views": []
    },
    "3134228a18a342ac9ba483b2433fb98a": {
     "views": []
    },
    "3176ed0d124244718bcefeeb5ad35235": {
     "views": []
    },
    "31e8fd8b618848889fefc58f9bd2407a": {
     "views": []
    },
    "31fec6e3061b418db521beb6c9dc9d20": {
     "views": []
    },
    "32238d1e12f94fc1bfd5a277fc04d17b": {
     "views": []
    },
    "326957af8f21401bb3476a9dde920733": {
     "views": []
    },
    "33fd115a22ab4725bf6296268d859bdf": {
     "views": []
    },
    "346f52a28a3e429eb32eb11c17997610": {
     "views": []
    },
    "35f9842ef6404ffc88be4460eae877c6": {
     "views": []
    },
    "368648f7db9f42ef86c40a6f5a3f958e": {
     "views": []
    },
    "36f477e566f9489cb3a37b11584e1734": {
     "views": []
    },
    "39899e4478794a1fb548c530fc107102": {
     "views": []
    },
    "3c1333e49a9446c09f6b7947de6e33fd": {
     "views": []
    },
    "3ca0f1b6066d419dae527fdacb1dea23": {
     "views": []
    },
    "3ca2e7bdf6674302ab9ca148128ec931": {
     "views": []
    },
    "3dc65385be094fb394f16a64c2fd5fc0": {
     "views": []
    },
    "3de16e58cf1e4543816085348dbe6a6f": {
     "views": []
    },
    "3e6a11108b654a8ab3e34e3c9e022b66": {
     "views": []
    },
    "3ead4391cd4c42929eb28f56db311341": {
     "views": []
    },
    "4073dae734df4129897d23930422fb68": {
     "views": []
    },
    "41b8f7c2bb194b1daadf3f0d32adead1": {
     "views": []
    },
    "4269baef4cc046c1a9f85f99e2f12d90": {
     "views": []
    },
    "42f3386be704485f9ff02dc3240d45b3": {
     "views": []
    },
    "430ea4a004664d9fac0285dec4d7628f": {
     "views": []
    },
    "450e163d8fdb411ea785ac166f7e7e69": {
     "views": []
    },
    "4615b68ccf6a480c842e03f160761b2e": {
     "views": []
    },
    "46ec1dcb1cbd45bcad9c64bbb0f1276c": {
     "views": []
    },
    "47773a0d1a484c52aa6d209f56413a14": {
     "views": []
    },
    "490e0ba6d99445b1b267fc121b222632": {
     "views": []
    },
    "49131d7b13bf4c92bf0984035f795cdb": {
     "views": []
    },
    "498d0662341e44728496faf7f3a5edd9": {
     "views": []
    },
    "49cf496abcab4bdda2669a75bf557dbf": {
     "views": []
    },
    "4a1bab2481854965bf7afc48bfecd986": {
     "views": []
    },
    "4c5cd366bff447d8830f7a68e8d89713": {
     "views": []
    },
    "4cac36ab70d44fc0958ba102f1393d4a": {
     "views": []
    },
    "4d7b50d20b2a45e697c6a616c15cdf35": {
     "views": []
    },
    "4e79715fd6424461a0cc42244b629813": {
     "views": []
    },
    "504a35df9fec465b90732ee3b4e840ea": {
     "views": []
    },
    "519d1e3653124278997127c924f46e4d": {
     "views": []
    },
    "51a5aa78467f4e9a9e82ff12aff06c1f": {
     "views": []
    },
    "51ddcb8d81184c3980861eae38efcd3d": {
     "views": []
    },
    "5218d17c15a24690ad31b5dc2c35598b": {
     "views": []
    },
    "540c0b5fd7a14661a95d7dd600b0e4a8": {
     "views": []
    },
    "54577ff94c99460ba1e1083e4d6e586e": {
     "views": []
    },
    "54da3a872eaa4c06961ac0c2eedcf02d": {
     "views": []
    },
    "563718b601bd492ea0ea344f10b4d660": {
     "views": []
    },
    "56deb9e85b7f4cd0a08b0fe739e0f538": {
     "views": []
    },
    "571180d0999a40caaf82e888bde1c092": {
     "views": []
    },
    "5742f9e8f17b4c7480af0847e009388a": {
     "views": []
    },
    "57592f3c4252485fb06e1aded3f2e9ea": {
     "views": []
    },
    "58d62117040b4b2db69aa8149ef1e69d": {
     "views": []
    },
    "592daaaa5d9e4891b172f47f9fab5668": {
     "views": []
    },
    "594eb939c7984cadbfe3304d60f64e8a": {
     "views": []
    },
    "5972f744ccde4348a5cbd7d725653d23": {
     "views": []
    },
    "59c4d8738a4f4ec48be90cf84c39cc0e": {
     "views": []
    },
    "5a81311175474add8f509aa6aa9adcb7": {
     "views": []
    },
    "5b30307ef555424f991b4244541efe45": {
     "views": []
    },
    "5b4119c0c3b2452a896eb96743fba38b": {
     "views": []
    },
    "5ddcc6e0eb7e4decb334cfe93700daf2": {
     "views": []
    },
    "5e5f6e3be03047f0ba40ddbf8821d9ad": {
     "views": []
    },
    "5f9be671634b4fe1b865cceb53b98738": {
     "views": []
    },
    "60211304542c435da85e70d1aeb9bb06": {
     "views": []
    },
    "60db1bf5cfd74e4fb6cc3b01e933ae56": {
     "views": []
    },
    "611e459f12e84663bbd4b67385757b18": {
     "views": []
    },
    "61b1504c626641e49ef7219cdd2eeb9e": {
     "views": []
    },
    "61b5c6af633c49a9978830295d316185": {
     "views": []
    },
    "61b8037b58b541ca851d7317d3c97b3a": {
     "views": []
    },
    "62e7fdeea279481cb49406531d3d1c48": {
     "views": []
    },
    "642e72293ee746f0acb8a8198f27e4b0": {
     "views": []
    },
    "64f1aa51df834ebfb56bc6594681c584": {
     "views": []
    },
    "65109ceb607d4d799b8a8f2c882af414": {
     "views": []
    },
    "6533ca2b06ec47d5852f1b076981d80c": {
     "views": []
    },
    "656b3bc61f494beda03925de10ce1ecf": {
     "views": []
    },
    "65c3365e20b24d90952338ef37bf8935": {
     "views": []
    },
    "67a546335283437fadbceed8a0f8f3c2": {
     "views": []
    },
    "69338d41c96a4a5bb1c4bb98c8e75fce": {
     "views": []
    },
    "699faf411b5e4ecc8c9d336edcc21beb": {
     "views": []
    },
    "6a1269448c07492baaae970cc773e668": {
     "views": []
    },
    "6a6dfe925aa14ab592f4bafbb0f31532": {
     "views": []
    },
    "6bd91f2014ed4c6dacb632a4cd792994": {
     "views": []
    },
    "6bf7c1495ad74504a558aa36e2997578": {
     "views": []
    },
    "6c78f969bf65488ab8592fff81bf110f": {
     "views": []
    },
    "6ce6b38504ef4277bc62cbb7cf8b1c32": {
     "views": []
    },
    "6d258f1bec2a4844a16a3e631c1950f1": {
     "views": []
    },
    "6d7c6a0eee0f454fb5803cc2d5d2e278": {
     "views": []
    },
    "6da5ef34a0364bb09dfbeeeae008415e": {
     "views": []
    },
    "703bb0574efb447f966e771a8db256a8": {
     "views": []
    },
    "71219f7becbb4851a393148a544df81a": {
     "views": []
    },
    "7196a364f95245c9a818d71d1bfb0aad": {
     "views": []
    },
    "73a346d274404256ba1531121967d3b9": {
     "views": []
    },
    "740af555677b426387eeeaf8c8a34228": {
     "views": []
    },
    "7551ad7dbf0f467280c6eefc8311c7ac": {
     "views": []
    },
    "75ab49abc20f43b19c017f448d7339f2": {
     "views": []
    },
    "7716d54b9b104cc1b15d9a2eaae8fc68": {
     "views": []
    },
    "77b3d42f9f5843ecb6423d65d517d4b8": {
     "views": []
    },
    "7894dc8a558e478fb3685b36b0d343a2": {
     "views": []
    },
    "790a70f3d2dc4429b3347df78c86ce88": {
     "views": []
    },
    "79516c8ee7e14938974c213890323c1e": {
     "views": []
    },
    "79bebce6c9834068a95d0d2603a5b08f": {
     "views": []
    },
    "79d6116c90b5499ea248aa18d53efd8b": {
     "views": []
    },
    "7aa788e4556e4de496c71c0bc2f1b7d1": {
     "views": []
    },
    "7ddc0a7eb9f646ed853b964f19a2d023": {
     "views": []
    },
    "7ebc3af59784416697ad10f36fab0910": {
     "views": []
    },
    "7fc39ce42b2845eaae56019fe4c9b085": {
     "views": []
    },
    "7fe99afc193f4ef49bd1e6cd0d65b074": {
     "views": []
    },
    "806be51f85ca4c11a4d76929b04b3e85": {
     "views": []
    },
    "817f09e14a784b1c8ed6ea8553e37084": {
     "views": []
    },
    "830ecd50e1f3453a978ca28a24de0c60": {
     "views": []
    },
    "833066568147484ea1a55803fdd8a4bd": {
     "views": []
    },
    "8526873174ae4d85be8c585177658106": {
     "views": []
    },
    "85f36716e39d4eb1b76edb7af85f1fc3": {
     "views": []
    },
    "8623cf3425b749b490d932507891825c": {
     "views": []
    },
    "867ba73c11ac4f9f9d9bb73c30e8aa7f": {
     "views": []
    },
    "87d727b239564bff8b8f5174436649ec": {
     "views": []
    },
    "8a393f0d3c5545e880852d988f1b560b": {
     "views": []
    },
    "8b5772c004184235a96d1a6db7b810a1": {
     "views": []
    },
    "8be80f82204d4ecbaef918168d01bcfd": {
     "views": []
    },
    "8c1b62c7447f43a5877b2915e2f101d8": {
     "views": []
    },
    "8ccba40d85df446aa4331e5f5f42a420": {
     "views": []
    },
    "8d76c68e49994d0c93bfd7014ff619d3": {
     "views": []
    },
    "8f0adaae00424789a0bedc868ecf6d39": {
     "views": []
    },
    "8fa39386758a4495a6d14773d46fd9b9": {
     "views": []
    },
    "8fb72dc0f0af4938a2694d88ee1ccab2": {
     "views": []
    },
    "9010c55a76ff44e38c25facc4e706f7b": {
     "views": []
    },
    "919e47ed26d74d4bb275f27ce48013d4": {
     "views": []
    },
    "925a4bb13fd242c5bd22d75abf68ebd5": {
     "views": []
    },
    "929968238d21466abe24efdad8563d11": {
     "views": []
    },
    "92d42eb9583140359b80eff0ad277d44": {
     "views": []
    },
    "9440f4b08234438aa421e04d04d22c1d": {
     "views": []
    },
    "94ae383e7ef34a239dc0287766a6d681": {
     "views": []
    },
    "95b4dc16fe1e4ed2b5988dee0c9ebb42": {
     "views": []
    },
    "980b43ad36fa4739804affcaaec2f4a2": {
     "views": []
    },
    "98fd7de08403492c8544178efb58d159": {
     "views": []
    },
    "9a07561949c744d18297b03afcd4fee5": {
     "views": []
    },
    "9b6fef24015543b39062ccf4918dd564": {
     "views": []
    },
    "9bad6aad251a4d8bb40fcf774c330d02": {
     "views": []
    },
    "9c01ef5b18424d58904d2695a129aa20": {
     "views": []
    },
    "9f5ed0c6c0c64572b34067237a11996c": {
     "views": []
    },
    "a09745662dc3456fa3514e92b36eb7b4": {
     "views": []
    },
    "a14adcb42cb2463cb4665e716b73f5f0": {
     "views": []
    },
    "a1d5b97b1fe8458889468456d1fe0ce1": {
     "views": []
    },
    "a1d743d16944482f90cfa3bc269d97c3": {
     "views": []
    },
    "a23bd3545fc34bc2bc6c6e1237e3a8d7": {
     "views": []
    },
    "a24ee9c485b7449a84c82ab89ac5a494": {
     "views": []
    },
    "a31fa819c7da4a44958653e646278612": {
     "views": []
    },
    "a38bd759a5fb4278839504cf89da0d2a": {
     "views": []
    },
    "a49062680f824c5588a17db9fee3d74e": {
     "views": []
    },
    "a60ab6d621cc45efb8be5812e67ff106": {
     "views": []
    },
    "a69d525ff83b4d90b55224a684dfe4c0": {
     "views": []
    },
    "a765bf12a70b43238e58264b5720fd5e": {
     "views": []
    },
    "a8157c13355e42599a7d2a071379bdf3": {
     "views": []
    },
    "a83f588090ee41b282c3da6cbdf26845": {
     "views": []
    },
    "a850f55208c34539a89d5393a989fd60": {
     "views": []
    },
    "a8bce4e7db764e6c9d8745414108cf57": {
     "views": []
    },
    "a926f03b39574b3d8c814dc6c1ca6bc1": {
     "views": []
    },
    "abeac728da354066a37399194e96756f": {
     "views": []
    },
    "ad3667034f954054ad6205d5ad21d46c": {
     "views": []
    },
    "b039113f2f5c4ab981a88be4434cba66": {
     "views": []
    },
    "b0508b9844164053867d554cbbf9ac35": {
     "views": []
    },
    "b0853c1f3b104858b266f1e0c6b27218": {
     "views": []
    },
    "b08ab1b030fc4130b818c0b5e3537c54": {
     "views": []
    },
    "b096649aeb954bb58ccdc13755578139": {
     "views": []
    },
    "b1699dafb4a340d99c465aa927f32477": {
     "views": []
    },
    "b207f5d7b4d049278f9811b129647f95": {
     "views": []
    },
    "b2966a0101e541d3a0e12fc4a0e608b7": {
     "views": []
    },
    "b2a7f638c230440ca8e821696d89143e": {
     "views": []
    },
    "b3c94fe217334b35a37972829f31df38": {
     "views": []
    },
    "b42baf7f249f4fa68c66b83bef69bf8e": {
     "views": []
    },
    "b44a43893a67443aad90ccd1d93f4eac": {
     "views": []
    },
    "b46ca2b0ffb34382999424a77bbcd4aa": {
     "views": []
    },
    "b500c5e675d842ebb502b8216894db0a": {
     "views": []
    },
    "b5f2828585bf457e91acde734cb29a09": {
     "views": []
    },
    "b637b09a2cec4f35bbbbfbe7f126408c": {
     "views": []
    },
    "b6c61bef34d24cc3955846df0707d26f": {
     "views": []
    },
    "b6f470371e5640c090be8e8caabcdb12": {
     "views": []
    },
    "b719720fc58545f3994ed0faa7111edb": {
     "views": []
    },
    "b8abd180987e45a98da33f8b419f1b04": {
     "views": []
    },
    "b9a7764230ce40f7ba2f096dcbf79357": {
     "views": []
    },
    "b9fd6fe645e446bda64a96d29764059f": {
     "views": []
    },
    "baa8db121b4b4dd5b699175359e3408d": {
     "views": []
    },
    "bbbfc92da7fb4e29abdeee6674092a7d": {
     "views": []
    },
    "bc24faf795d54b4a9f9864aa99e7437c": {
     "views": []
    },
    "bc94a2939e9e4ae68fa25e4e6e5aeae3": {
     "views": []
    },
    "c0131f5173994ab482266dd5576e596c": {
     "views": []
    },
    "c0c1690777f54a36af1769c3aceb1562": {
     "views": []
    },
    "c0ed830fd27f47a095634e9a0c2158c6": {
     "views": []
    },
    "c169e0eec0434eeda5025bcb4268eb2b": {
     "views": []
    },
    "c4dd186d33f3421d83d572c67aeac48e": {
     "views": []
    },
    "c62c71d5274b4e2180679e7c02c216c7": {
     "views": []
    },
    "c67d5afbc9034abcb06d69b5a6db9c77": {
     "views": []
    },
    "c6cdca94311e4a71b72930bba60acc84": {
     "views": []
    },
    "c756ca56d0bb4072b6a9fe4826a192d7": {
     "views": []
    },
    "c79aaec42b094d19af77cf91f264e34f": {
     "views": []
    },
    "c7bc4516093b4e0192a47b35e72e1079": {
     "views": []
    },
    "c7db37ac8c1d4e1ab70cacef111fdf68": {
     "views": []
    },
    "c81b1b1632f248049362c06f9295b0a9": {
     "views": []
    },
    "ca084103f07b414a981cb62318eea60a": {
     "views": []
    },
    "cba379cb30984d29bb331f9b1fab35db": {
     "views": []
    },
    "cc209aba00304c1c80ecc88c015a4ae5": {
     "views": []
    },
    "cc686aa1284548e18f362642e84abbb4": {
     "views": []
    },
    "cc9e0cf28757433b93f45aab69fce232": {
     "views": []
    },
    "ccfebaa5afd4408cacfeb349c644f1c0": {
     "views": []
    },
    "cde30c4e1c6d489fa4631a7dd76bfcf0": {
     "views": []
    },
    "ce21d9993009499988e4c00cda4e1f12": {
     "views": []
    },
    "cf98d6e3e63644f08d20a83004f6fb64": {
     "views": []
    },
    "d0cb7edb6c4c4730a269137147eaad10": {
     "views": []
    },
    "d14b30eb8e9b44bf9eaf1cf19baba74e": {
     "views": []
    },
    "d166d9c1084848a090c954decbc3bc6e": {
     "views": []
    },
    "d198c6170fe04794820a9e424ed1e86f": {
     "views": []
    },
    "d270ed1737874ce3abc13d4c54110042": {
     "views": []
    },
    "d5103163173d4767a974f67291c88e32": {
     "views": []
    },
    "d8e845544ea94f7da02b387bb9f20d8a": {
     "views": []
    },
    "d912c9e7837040d4b6e6d6b0de3cbd16": {
     "views": []
    },
    "d9486ca76a694287a7408f73f7ff7348": {
     "views": []
    },
    "d9852cbbc26d4cb6b5927f1464463325": {
     "views": []
    },
    "da532e43d8ec4fb9b3bfa61067b462f5": {
     "views": []
    },
    "da5356f20f6d48159a57a200351d3db3": {
     "views": []
    },
    "db5c9cdd5a1246e08c789242302a1619": {
     "views": []
    },
    "db96f7d4744f43008f3f063525cde414": {
     "views": []
    },
    "dbd2e03a37b043829d0c5f4e822d8ef7": {
     "views": []
    },
    "dc1df34ac35640f78cad99f605fed31d": {
     "views": []
    },
    "dc3321513cf14f6fbd7d047bf9c98226": {
     "views": []
    },
    "dd935836b2dd45fbbeb03076a87bcac0": {
     "views": []
    },
    "de1e6483c17b491589d2eef09bf43d27": {
     "views": []
    },
    "de9ae1a025d24507918d4307c6eae181": {
     "views": []
    },
    "df34e534cc6749c493ac4a49fd80858b": {
     "views": []
    },
    "df929c7a3acd437794e99be2148191ff": {
     "views": []
    },
    "dfb3be523ff74db096dae022643e4215": {
     "views": []
    },
    "dfb91099276c4e9b9dbdc63df3d0745d": {
     "views": []
    },
    "e2c519e3691c483cb5aa5d55284ccbee": {
     "views": []
    },
    "e2d4fe92f10a44b097441b3364e22221": {
     "views": []
    },
    "e2f66f4ccf764e058e2ee3e5f281f2d0": {
     "views": []
    },
    "e4077d4fc37e493b9977d1d1baef9ba7": {
     "views": []
    },
    "e4665760c7ec481299fbd7bc123e3442": {
     "views": []
    },
    "e5d3d12fea1f4f72a09a6155b701abe5": {
     "views": []
    },
    "e60aceb5f2c3403db96b100d810dc40c": {
     "views": []
    },
    "e6a26a46767241ada13fe07383105d72": {
     "views": []
    },
    "e6f29ca8780f4ecda13c7032ec207705": {
     "views": []
    },
    "e71f4d6ef9ae46259b077ad371bcf909": {
     "views": []
    },
    "e777955ab82946efa77000a60ba59662": {
     "views": []
    },
    "e7dd879fc06c454b9bd8b6f7b06dd1f7": {
     "views": []
    },
    "e8b9f7d4b8bd4244b6b954bf5f3c91ce": {
     "views": []
    },
    "e9a5177f87784f26810a1161bee545cd": {
     "views": []
    },
    "ec22d30496fa4255b3a437e2fe2b6fb2": {
     "views": []
    },
    "ec23f9d3147e49fabc8833747b7f57ea": {
     "views": []
    },
    "ec24145a55ad4b12919a57a553fabfc9": {
     "views": []
    },
    "ec785de12ea549a8b9d05585e98442d0": {
     "views": []
    },
    "ec9624a508d84892a0641bd86128f0e0": {
     "views": []
    },
    "eda521bc5e904ee2912ccd12e948cbbd": {
     "views": []
    },
    "ef779f3c79d541d4ae8b59e3da135a1f": {
     "views": []
    },
    "ef86e03538aa44cd8328df1333ac5bb7": {
     "views": []
    },
    "f0b014ce265f44dc87f8bde46c589141": {
     "views": []
    },
    "f0fe2382f1f8412284ea8c93644f0c76": {
     "views": []
    },
    "f12996718bc041f1bacb5763f241b0cd": {
     "views": []
    },
    "f21d798bc78345e9bd7d51911c93c601": {
     "views": []
    },
    "f235306b1d064dadbdc93e972f0a6fcf": {
     "views": []
    },
    "f5b58489af1644df8fe616b93ee7bf9d": {
     "views": []
    },
    "f6031fd7293944e7a9faa518b72367ef": {
     "views": []
    },
    "f682ae4f164b499ebc962a59d2cd4efa": {
     "views": []
    },
    "f72b1a37b79e4bb884c7204954cc5d17": {
     "views": []
    },
    "f8d3150487fb48e2b7bdf0927bb1cf29": {
     "views": []
    },
    "f9127c2e4a88418b8309156c0de2dc83": {
     "views": []
    },
    "fae90b51324447d196cdf35c377bf71d": {
     "views": []
    },
    "fb01876f5f754be8b8e86a2037f29a9d": {
     "views": []
    },
    "fd558e68ca4144f788bed1a3a1a157ab": {
     "views": []
    },
    "fe560d9bc769423bb1b27868d06545f0": {
     "views": []
    },
    "feb3d1d4aee641019fbccd31c331405e": {
     "views": []
    },
    "ff3bc0cfd5cb42ba8e405fe6215046d7": {
     "views": []
    }
   },
   "version": "1.1.1"
  }
 },
 "nbformat": 4,
 "nbformat_minor": 0
}
