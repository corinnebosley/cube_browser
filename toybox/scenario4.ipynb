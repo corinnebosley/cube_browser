{
 "cells": [
  {
   "cell_type": "code",
   "execution_count": 1,
   "metadata": {
    "collapsed": false
   },
   "outputs": [
    {
     "name": "stderr",
     "output_type": "stream",
     "text": [
      "/data/local/cbosley/mc/c/envs/cubebrowser/lib/python2.7/site-packages/matplotlib/font_manager.py:273: UserWarning: Matplotlib is building the font cache using fc-list. This may take a moment.\n",
      "  warnings.warn('Matplotlib is building the font cache using fc-list. This may take a moment.')\n"
     ]
    }
   ],
   "source": [
    "%matplotlib notebook"
   ]
  },
  {
   "cell_type": "code",
   "execution_count": 2,
   "metadata": {
    "collapsed": true
   },
   "outputs": [],
   "source": [
    "import ipywidgets\n",
    "import matplotlib.pyplot as plt\n",
    "\n",
    "import iris\n",
    "import iris.plot as iplt"
   ]
  },
  {
   "cell_type": "code",
   "execution_count": 3,
   "metadata": {
    "collapsed": false
   },
   "outputs": [
    {
     "name": "stdout",
     "output_type": "stream",
     "text": [
      "air_potential_temperature / (K)     (time: 6; model_level_number: 10; grid_latitude: 83; grid_longitude: 83)\n",
      "     Dimension coordinates:\n",
      "          time                           x                      -                  -                   -\n",
      "          model_level_number             -                      x                  -                   -\n",
      "          grid_latitude                  -                      -                  x                   -\n",
      "          grid_longitude                 -                      -                  -                   x\n",
      "     Auxiliary coordinates:\n",
      "          forecast_period                x                      -                  -                   -\n",
      "          level_height                   -                      x                  -                   -\n",
      "          sigma                          -                      x                  -                   -\n",
      "     Scalar coordinates:\n",
      "          forecast_reference_time: 2009-09-09 22:00:00\n",
      "     Attributes:\n",
      "          STASH: m01s00i004\n",
      "          source: Data from Met Office Unified Model\n",
      "          um_version: 7.4\n"
     ]
    },
    {
     "name": "stderr",
     "output_type": "stream",
     "text": [
      "/data/local/cbosley/mc/iris/lib/iris/fileformats/rules.py:951: UserWarning: Unable to create instance of HybridHeightFactory. The source data contains no field(s) for 'orography'.\n",
      "  warnings.warn(msg.format(factory=factory_name))\n"
     ]
    }
   ],
   "source": [
    "cube = iris.load_cube(iris.sample_data_path('colpex.pp'), 'air_potential_temperature')\n",
    "print cube"
   ]
  },
  {
   "cell_type": "code",
   "execution_count": 5,
   "metadata": {
    "collapsed": false
   },
   "outputs": [
    {
     "name": "stdout",
     "output_type": "stream",
     "text": [
      "air_potential_temperature / (K)     (time: 6; grid_latitude: 83; grid_longitude: 83)\n",
      "     Dimension coordinates:\n",
      "          time                           x                 -                   -\n",
      "          grid_latitude                  -                 x                   -\n",
      "          grid_longitude                 -                 -                   x\n",
      "     Auxiliary coordinates:\n",
      "          forecast_period                x                 -                   -\n",
      "     Scalar coordinates:\n",
      "          forecast_reference_time: 2009-09-09 22:00:00\n",
      "          level_height: 216.667 m, bound=(0.0, 433.333) m\n",
      "          model_level_number: 5, bound=(1, 10)\n",
      "          sigma: 0.97534, bound=(0.95068, 1.0)\n",
      "     Attributes:\n",
      "          STASH: m01s00i004\n",
      "          source: Data from Met Office Unified Model\n",
      "          um_version: 7.4\n",
      "     Cell methods:\n",
      "          mean: model_level_number\n"
     ]
    },
    {
     "name": "stderr",
     "output_type": "stream",
     "text": [
      "/data/local/cbosley/mc/iris/lib/iris/coords.py:992: UserWarning: Collapsing a non-contiguous coordinate. Metadata may not be fully descriptive for 'model_level_number'.\n",
      "  warnings.warn(msg.format(self.name()))\n"
     ]
    }
   ],
   "source": [
    "mean_cube = cube.collapsed('model_level_number', iris.analysis.MEAN)\n",
    "print mean_cube"
   ]
  },
  {
   "cell_type": "code",
   "execution_count": null,
   "metadata": {
    "collapsed": true
   },
   "outputs": [],
   "source": [
    "# I want to be able to make side-by-side plots of the two cubes above with shared sliders.  \n",
    "# One of the sliders will not apply to both plots."
   ]
  }
 ],
 "metadata": {
  "kernelspec": {
   "display_name": "Python 2",
   "language": "python",
   "name": "python2"
  },
  "language_info": {
   "codemirror_mode": {
    "name": "ipython",
    "version": 2
   },
   "file_extension": ".py",
   "mimetype": "text/x-python",
   "name": "python",
   "nbconvert_exporter": "python",
   "pygments_lexer": "ipython2",
   "version": "2.7.11"
  },
  "widgets": {
   "state": {},
   "version": "1.1.1"
  }
 },
 "nbformat": 4,
 "nbformat_minor": 0
}
