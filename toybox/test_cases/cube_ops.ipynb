{
 "cells": [
  {
   "cell_type": "markdown",
   "metadata": {},
   "source": [
    "# Cube Operations"
   ]
  },
  {
   "cell_type": "markdown",
   "metadata": {},
   "source": [
    "This test case is based on a user story from Chris Kent in Applied Science.  He stated that a plot combination he frequently requires is one global plot, and a plot showing an associated curve following the dimensional sum or average of the cube."
   ]
  },
  {
   "cell_type": "code",
   "execution_count": null,
   "metadata": {
    "collapsed": false
   },
   "outputs": [],
   "source": [
    "import cartopy.crs as ccrs\n",
    "import iris\n",
    "#import iris.coord_categorisation as ccat\n",
    "import iris.plot as iplt\n",
    "import iris.quickplot as qplt\n",
    "\n",
    "import matplotlib.pyplot as plt\n",
    "import numpy as np"
   ]
  },
  {
   "cell_type": "code",
   "execution_count": null,
   "metadata": {
    "collapsed": true
   },
   "outputs": [],
   "source": [
    "% matplotlib inline"
   ]
  },
  {
   "cell_type": "code",
   "execution_count": null,
   "metadata": {
    "collapsed": true
   },
   "outputs": [],
   "source": [
    "# This is probably going to be most useful shown with a 4-dimensional cube.  \n",
    "# That way it can still be interactiverized with one slider while the sum or average is static in another.\n",
    "# Here it will all be slicing though."
   ]
  },
  {
   "cell_type": "code",
   "execution_count": null,
   "metadata": {
    "collapsed": false
   },
   "outputs": [],
   "source": [
    "cube = iris.load_cube(iris.sample_data_path('uk_hires.pp'), 'air_potential_temperature')\n",
    "print cube"
   ]
  },
  {
   "cell_type": "code",
   "execution_count": null,
   "metadata": {
    "collapsed": true
   },
   "outputs": [],
   "source": [
    "# In the cube selected here, there would be two sliders; one for time and one for model_level_number.\n",
    "# The time vs phenomenon plot would be invariant with time, but the presence of the slider should not break the plot."
   ]
  },
  {
   "cell_type": "code",
   "execution_count": null,
   "metadata": {
    "collapsed": false
   },
   "outputs": [],
   "source": [
    "mean_cube = cube.collapsed('time', iris.analysis.MEAN)\n",
    "print mean_cube"
   ]
  },
  {
   "cell_type": "code",
   "execution_count": null,
   "metadata": {
    "collapsed": false
   },
   "outputs": [],
   "source": [
    "fig = plt.figure(figsize = [12, 9])\n",
    "\n",
    "ax1 = plt.subplot(2,2,1, projection=ccrs.OSGB())\n",
    "ax1.coastlines()\n",
    "ax1.set_global()\n",
    "ax1.set_title('OSGB View of Data')\n",
    "iplt.pcolormesh(cube[0, 0])\n",
    "\n",
    "ax2 = plt.subplot(2,2,2, projection=ccrs.Mercator())\n",
    "ax2.set_xticks(cube.coord('grid_longitude').points[0:187:10]) # Why doesn't this work?\n",
    "ax2.set_title('Air Potential Temperature')\n",
    "iplt.pcolormesh(cube[0, 0])\n",
    "\n",
    "ax3 = plt.subplot(2,2,3, colspan=2)\n",
    "ax3.set_title('Mean over Time of Air Potential Temperature')\n",
    "iplt.plot(mean_cube[0, 0])\n",
    "\n",
    "fig.tight_layout()\n",
    "iplt.show()"
   ]
  },
  {
   "cell_type": "code",
   "execution_count": null,
   "metadata": {
    "collapsed": true
   },
   "outputs": [],
   "source": []
  }
 ],
 "metadata": {
  "kernelspec": {
   "display_name": "Python 2",
   "language": "python",
   "name": "python2"
  },
  "language_info": {
   "codemirror_mode": {
    "name": "ipython",
    "version": 2
   },
   "file_extension": ".py",
   "mimetype": "text/x-python",
   "name": "python",
   "nbconvert_exporter": "python",
   "pygments_lexer": "ipython2",
   "version": "2.7.11"
  },
  "widgets": {
   "state": {},
   "version": "1.1.1"
  }
 },
 "nbformat": 4,
 "nbformat_minor": 0
}
