{
 "cells": [
  {
   "cell_type": "markdown",
   "metadata": {},
   "source": [
    "# Cube Operations"
   ]
  },
  {
   "cell_type": "markdown",
   "metadata": {},
   "source": [
    "This test case is based on a user story from Chris Kent in Applied Science.  He stated that a plot combination he frequently requires is one global plot, and a plot showing an associated curve following the dimensional sum or average of the cube."
   ]
  },
  {
   "cell_type": "code",
   "execution_count": null,
   "metadata": {
    "collapsed": false
   },
   "outputs": [],
   "source": [
    "import cartopy.crs as ccrs\n",
    "import iris\n",
    "#import iris.coord_categorisation as ccat\n",
    "import iris.plot as iplt\n",
    "import iris.quickplot as qplt\n",
    "\n",
    "import matplotlib.pyplot as plt\n",
    "import numpy as np"
   ]
  },
  {
   "cell_type": "code",
   "execution_count": null,
   "metadata": {
    "collapsed": true
   },
   "outputs": [],
   "source": [
    "import warnings\n",
    "warnings.simplefilter('ignore')"
   ]
  },
  {
   "cell_type": "code",
   "execution_count": null,
   "metadata": {
    "collapsed": true
   },
   "outputs": [],
   "source": [
    "% matplotlib inline"
   ]
  },
  {
   "cell_type": "markdown",
   "metadata": {},
   "source": [
    "# Load and Prepare the Data"
   ]
  },
  {
   "cell_type": "markdown",
   "metadata": {},
   "source": [
    "For this example I am using a 4-dimensional cube.\n",
    "\n",
    "For the global plot the data simply has to be loaded and plotted, and for the associated curve I am collapsing one dimension by averaging the data over model level number."
   ]
  },
  {
   "cell_type": "code",
   "execution_count": null,
   "metadata": {
    "collapsed": false
   },
   "outputs": [],
   "source": [
    "cube = iris.load_cube(iris.sample_data_path('uk_hires.pp'), 'air_potential_temperature')\n",
    "print cube"
   ]
  },
  {
   "cell_type": "code",
   "execution_count": null,
   "metadata": {
    "collapsed": false
   },
   "outputs": [],
   "source": [
    "mean_cube = cube.collapsed('model_level_number', iris.analysis.MEAN)\n",
    "print mean_cube"
   ]
  },
  {
   "cell_type": "markdown",
   "metadata": {},
   "source": [
    "# Plot the Cubes"
   ]
  },
  {
   "cell_type": "markdown",
   "metadata": {
    "collapsed": true
   },
   "source": [
    "I now have two cubes relating to the same phenomenon which I would like to visualize simultaneously.\n",
    "\n",
    "For the original cube selected above (and the top two plots), there would be two sliders; one for time and one for model_level_number.\n",
    "\n",
    "The collapsed cube is associated with the original cube, so the sliders for the top plots will also control the lower plot of time vs phenomenon.  This plot would be invariant with model-level-number, but the presence of one non-applicable slider for this plot should not break it.  "
   ]
  },
  {
   "cell_type": "code",
   "execution_count": null,
   "metadata": {
    "collapsed": false
   },
   "outputs": [],
   "source": [
    "fig1 = plt.figure(figsize=[12, 8])\n",
    "\n",
    "ax1 = plt.subplot(1,2,1, projection=ccrs.Mercator())\n",
    "ax1.coastlines()\n",
    "ax1.set_title('Air Potential Temperature')\n",
    "iplt.pcolormesh(cube[0, 0])\n",
    "cbar = plt.colorbar(orientation='horizontal')\n",
    "cbar.set_label('Temp(K)')\n",
    "\n",
    "ax2 = plt.subplot(1,2,2, projection=ccrs.OSGB())\n",
    "ax2.coastlines()\n",
    "ax2.set_global()\n",
    "ax2.set_title('OSGB View (for context)')\n",
    "iplt.pcolormesh(cube[0, 0])\n",
    "\n",
    "fig2 = plt.figure(figsize=[10.6, 6])\n",
    "ax = plt.subplot(111)\n",
    "ax.set_title('Mean over Model Level Number of Air Potential Temperature Variance with Longitude')\n",
    "ax.set_xlabel('grid longitude')\n",
    "ax.set_ylabel('Air Potential Temperature (K)')\n",
    "iplt.plot(mean_cube[0, 0])\n",
    "\n",
    "fig.tight_layout()\n",
    "iplt.show()"
   ]
  },
  {
   "cell_type": "markdown",
   "metadata": {
    "collapsed": true
   },
   "source": [
    "# Failure Mode"
   ]
  },
  {
   "cell_type": "markdown",
   "metadata": {},
   "source": [
    "Now let's break it.\n",
    "\n",
    "The first two plots use the same unadulterated cube, so these are intrinsically linked for all sliders and dimensions.  But the template does rely on a specific dimensionality of the cube.  This is what would happen if we loaded and tried to plot a cube with a different number of dimensions:"
   ]
  },
  {
   "cell_type": "code",
   "execution_count": null,
   "metadata": {
    "collapsed": false
   },
   "outputs": [],
   "source": [
    "cube = iris.load_cube(iris.sample_data_path('air_temp.pp'))\n",
    "print repr(cube)"
   ]
  },
  {
   "cell_type": "code",
   "execution_count": null,
   "metadata": {
    "collapsed": false
   },
   "outputs": [],
   "source": [
    "fig1 = plt.figure(figsize=[12, 8])\n",
    "\n",
    "ax1 = plt.subplot(1,2,1, projection=ccrs.Mercator())\n",
    "ax1.coastlines()\n",
    "ax1.set_title('Air Potential Temperature')\n",
    "iplt.pcolormesh(bad_cube[0, 0])\n",
    "cbar = plt.colorbar(orientation='horizontal')\n",
    "cbar.set_label('Temp(K)')\n",
    "\n",
    "ax2 = plt.subplot(1,2,2, projection=ccrs.OSGB())\n",
    "ax2.coastlines()\n",
    "ax2.set_global()\n",
    "ax2.set_title('OSGB View (for context)')\n",
    "iplt.pcolormesh(cube[0, 0])"
   ]
  },
  {
   "cell_type": "markdown",
   "metadata": {},
   "source": [
    "The lower cube has undergone an operation which is reliant upon its dimension name.  If we try this operation with a cube without this dimension, this would happen:"
   ]
  },
  {
   "cell_type": "code",
   "execution_count": null,
   "metadata": {
    "collapsed": false
   },
   "outputs": [],
   "source": [
    "mean_cube = cube.collapsed('model_level_number', iris.analysis.MEAN)\n",
    "print mean_cube"
   ]
  }
 ],
 "metadata": {
  "kernelspec": {
   "display_name": "Python 2",
   "language": "python",
   "name": "python2"
  },
  "language_info": {
   "codemirror_mode": {
    "name": "ipython",
    "version": 2
   },
   "file_extension": ".py",
   "mimetype": "text/x-python",
   "name": "python",
   "nbconvert_exporter": "python",
   "pygments_lexer": "ipython2",
   "version": "2.7.11"
  },
  "widgets": {
   "state": {},
   "version": "1.1.1"
  }
 },
 "nbformat": 4,
 "nbformat_minor": 0
}
